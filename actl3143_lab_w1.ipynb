{
  "nbformat": 4,
  "nbformat_minor": 0,
  "metadata": {
    "colab": {
      "provenance": [],
      "collapsed_sections": [
        "oYwEE6Onr_WW",
        "nKp599iKXW4g",
        "TmiVdD5QnAOc",
        "o55hkteLnmQ_",
        "PtBhFZSOrhqR",
        "qbRRS6mitGq3"
      ]
    },
    "kernelspec": {
      "name": "python3",
      "display_name": "Python 3"
    },
    "language_info": {
      "name": "python"
    }
  },
  "cells": [
    {
      "cell_type": "markdown",
      "source": [
        "# **ACTL3143 Week 1 Lab: Introduction to Python**"
      ],
      "metadata": {
        "id": "Nkl-hYdNavXb"
      }
    },
    {
      "cell_type": "markdown",
      "source": [
        "Hello, and welcome to your first lab for ACTL3143! \n",
        "\n",
        "In these labs, you will be learning and applying the practical content shown to you in your lectures. Your labs will alternate each week with \"tutorials\", which will focus less on the coding side of AI and Deep Learning, and more on the mathematics behind neural networks. Later in the term, these labs will act more as consultation sessions for you to get help with your final projects and the exam. The lab/tutorial schedule for this term is as follows:\n",
        "\n",
        "\n",
        "* Week 1 Lab: Introduction to Python\n",
        "* Week 2 Tutorial: Forward pass and batch optimisation\n",
        "* Week 3 Lab: Git and GitHub\n",
        "* Week 4 Tutorial: Partial derivatives of loss, backpropagation\n",
        "* Week 5 Lab: Data visualisation (Matplotlib) and typography (LaTeX)\n",
        "* Week 6 Flexibility Week (no lab/tutorial)\n",
        "* Week 7 Tutorial: More mathematics of loss functions\n",
        "* Week 8-9 Lab: Project help\n",
        "* Week 10 Tutorial: Exam prep\n",
        "\n"
      ],
      "metadata": {
        "id": "-YizB3pam21s"
      }
    },
    {
      "cell_type": "markdown",
      "source": [
        "## Agenda"
      ],
      "metadata": {
        "id": "ATBcNmbCpAC7"
      }
    },
    {
      "cell_type": "markdown",
      "source": [
        "In this week's lab, we will be introducing you to the fundamentals of Python with an emphasis on the tools that are often used in data science. You will be learning the following topics:\n",
        "\n",
        "* Installing and using Anaconda\n",
        "* Python Basics (variables, control flow, functions, classes, packages)\n",
        "* NumPy\n",
        "* Pandas"
      ],
      "metadata": {
        "id": "R8ewETwJp79U"
      }
    },
    {
      "cell_type": "markdown",
      "source": [
        "## Installing and using Anaconda"
      ],
      "metadata": {
        "id": "oYwEE6Onr_WW"
      }
    },
    {
      "cell_type": "markdown",
      "source": [
        "For our labs, you will need to install Anaconda. Anaconda is a distribution of Python that \"equips individuals to easily search and install thousands of Python/R packages\" (source: anaconda.com). \n",
        "\n",
        "To download Anaconda, go to https://www.anaconda.com/products/distribution. A full tutorial on how to install Anaconda can be found at https://www.cse.unsw.edu.au/~en1811/resources/getting-started/install-anaconda.html\n",
        "\n"
      ],
      "metadata": {
        "id": "nhOuj9SstDIf"
      }
    },
    {
      "cell_type": "markdown",
      "source": [
        "## Python Basics\n",
        "\n",
        "In this module we will be introducing you to Python, covering fundamentals such as variables, control flow, functions, classes, and packages. Since ACTL3142/5110 is a prerequisite of this course, you should all be familiar with the language R. R shares many similarities with Python, including some syntax, data types, and uses - R and Python are the two most popular languages for data science [source: edx.org]. Because of this, you should be able to easily understand the basics of Python, and in this lab, we will make some references to R."
      ],
      "metadata": {
        "id": "zg9RQUzxXSzR"
      }
    },
    {
      "cell_type": "markdown",
      "source": [
        "### Variables and basic types\n",
        "\n",
        "Much like with R, Python can also be used as a calculator:"
      ],
      "metadata": {
        "id": "nKp599iKXW4g"
      }
    },
    {
      "cell_type": "code",
      "source": [
        "# Addition\n",
        "1 + 1"
      ],
      "metadata": {
        "id": "-vwt_btTf1Cb"
      },
      "execution_count": null,
      "outputs": []
    },
    {
      "cell_type": "code",
      "source": [
        "# Subtraction\n",
        "9 - 6"
      ],
      "metadata": {
        "id": "70K-be-Vf6OL"
      },
      "execution_count": null,
      "outputs": []
    },
    {
      "cell_type": "code",
      "source": [
        "# Multiplication\n",
        "12 * 8"
      ],
      "metadata": {
        "id": "6Gn7yHMHf793"
      },
      "execution_count": null,
      "outputs": []
    },
    {
      "cell_type": "code",
      "source": [
        "# Division\n",
        "54 / 18"
      ],
      "metadata": {
        "id": "0A2E0860gAi9"
      },
      "execution_count": null,
      "outputs": []
    },
    {
      "cell_type": "code",
      "source": [
        "# Modulo\n",
        "39 % 8"
      ],
      "metadata": {
        "id": "vpI1w3UGgIoz"
      },
      "execution_count": null,
      "outputs": []
    },
    {
      "cell_type": "code",
      "source": [
        "# Brackets\n",
        "3 * (4 + 5)"
      ],
      "metadata": {
        "id": "dLTUuoCSgOPh"
      },
      "execution_count": null,
      "outputs": []
    },
    {
      "cell_type": "code",
      "source": [
        "# Powers - note that unlike R, Python uses \"**\" to denote powers\n",
        "4 ** 3"
      ],
      "metadata": {
        "id": "TArJiJfNgSmC"
      },
      "execution_count": null,
      "outputs": []
    },
    {
      "cell_type": "markdown",
      "source": [
        "Assigning values to variables is easy:"
      ],
      "metadata": {
        "id": "aVaEyViXkUAp"
      }
    },
    {
      "cell_type": "code",
      "source": [
        "a = 1\n",
        "print(a)"
      ],
      "metadata": {
        "colab": {
          "base_uri": "https://localhost:8080/"
        },
        "id": "ZeCVl-qKkZp7",
        "outputId": "9b6bd579-20a3-4d86-ffb1-cd33d001dc43"
      },
      "execution_count": null,
      "outputs": [
        {
          "output_type": "stream",
          "name": "stdout",
          "text": [
            "1\n"
          ]
        }
      ]
    },
    {
      "cell_type": "code",
      "source": [
        "a = 2\n",
        "b = 3\n",
        "b = a\n",
        "print(b)"
      ],
      "metadata": {
        "colab": {
          "base_uri": "https://localhost:8080/"
        },
        "id": "bM1ORr-Rkfsb",
        "outputId": "59559b28-4c4e-454d-8f93-90ddb74f3543"
      },
      "execution_count": null,
      "outputs": [
        {
          "output_type": "stream",
          "name": "stdout",
          "text": [
            "2\n"
          ]
        }
      ]
    },
    {
      "cell_type": "markdown",
      "source": [
        "Types of variables in Python include:\n",
        "\n",
        "* `int`\n",
        "* `float`\n",
        "* `string`\n",
        "* `bool`\n",
        "* `NoneType`\n",
        "\n",
        "You can check the type of a variable by using the `type()` function:"
      ],
      "metadata": {
        "id": "B_NhYbdElM6F"
      }
    },
    {
      "cell_type": "code",
      "source": [
        "print(type(1))\n",
        "print(type(1.0))\n",
        "print(type(\"Hello World!\"))\n",
        "print(type(1 == 1.0))\n",
        "print(type(None))"
      ],
      "metadata": {
        "colab": {
          "base_uri": "https://localhost:8080/"
        },
        "id": "IUvZlyYWlqaO",
        "outputId": "9e91879c-9a6a-4f8d-e1a9-4f415d150565"
      },
      "execution_count": null,
      "outputs": [
        {
          "output_type": "stream",
          "name": "stdout",
          "text": [
            "<class 'int'>\n",
            "<class 'float'>\n",
            "<class 'str'>\n",
            "<class 'bool'>\n",
            "<class 'NoneType'>\n"
          ]
        }
      ]
    },
    {
      "cell_type": "markdown",
      "source": [
        "### Shorthand assignments"
      ],
      "metadata": {
        "id": "TmiVdD5QnAOc"
      }
    },
    {
      "cell_type": "code",
      "source": [
        "x = 1\n",
        "x += 2\n",
        "print(x)"
      ],
      "metadata": {
        "id": "pz4OBgxQnIbx"
      },
      "execution_count": null,
      "outputs": []
    },
    {
      "cell_type": "code",
      "source": [
        "x = 1\n",
        "x -= 2\n",
        "print(x)"
      ],
      "metadata": {
        "id": "OoUOKoL9nTdN"
      },
      "execution_count": null,
      "outputs": []
    },
    {
      "cell_type": "code",
      "source": [
        "x = 1\n",
        "x *= 2\n",
        "print(x)"
      ],
      "metadata": {
        "id": "-Ix87QLFnTKz"
      },
      "execution_count": null,
      "outputs": []
    },
    {
      "cell_type": "code",
      "source": [
        "x = 1\n",
        "x /= 2\n",
        "print(x)"
      ],
      "metadata": {
        "id": "sCVSlBXxnTYj"
      },
      "execution_count": null,
      "outputs": []
    },
    {
      "cell_type": "markdown",
      "source": [
        "### Strings\n",
        "\n",
        "Much like in R, you can encode strings by using single or double quotation marks:"
      ],
      "metadata": {
        "id": "o55hkteLnmQ_"
      }
    },
    {
      "cell_type": "code",
      "source": [
        "s1 = \"Hello\""
      ],
      "metadata": {
        "id": "y4gSHYcIn0R1"
      },
      "execution_count": null,
      "outputs": []
    },
    {
      "cell_type": "code",
      "source": [
        "s2 = 'World!'"
      ],
      "metadata": {
        "id": "3uceHUvqn4-E"
      },
      "execution_count": null,
      "outputs": []
    },
    {
      "cell_type": "markdown",
      "source": [
        "You can concatenate strings by using the `+` operator:"
      ],
      "metadata": {
        "id": "K30F59j-n9-d"
      }
    },
    {
      "cell_type": "code",
      "source": [
        "s1 + \" \" + s2"
      ],
      "metadata": {
        "colab": {
          "base_uri": "https://localhost:8080/",
          "height": 35
        },
        "id": "GSx-J66toErH",
        "outputId": "caecb4b8-8544-439e-8b76-6353ff4e0987"
      },
      "execution_count": null,
      "outputs": [
        {
          "output_type": "execute_result",
          "data": {
            "text/plain": [
              "'Hello World!'"
            ],
            "application/vnd.google.colaboratory.intrinsic+json": {
              "type": "string"
            }
          },
          "metadata": {},
          "execution_count": 10
        }
      ]
    },
    {
      "cell_type": "markdown",
      "source": [
        "F-strings are one of the ways you can substitute the values of variables into a string:\n"
      ],
      "metadata": {
        "id": "SC3YDLfooveV"
      }
    },
    {
      "cell_type": "code",
      "source": [
        "f\"{s1} {s2}\""
      ],
      "metadata": {
        "colab": {
          "base_uri": "https://localhost:8080/",
          "height": 35
        },
        "id": "xaiwQWbzqwDl",
        "outputId": "6b69e79c-f4ab-4eef-9abc-25929e6d9429"
      },
      "execution_count": null,
      "outputs": [
        {
          "output_type": "execute_result",
          "data": {
            "text/plain": [
              "'Hello World!'"
            ],
            "application/vnd.google.colaboratory.intrinsic+json": {
              "type": "string"
            }
          },
          "metadata": {},
          "execution_count": 4
        }
      ]
    },
    {
      "cell_type": "markdown",
      "source": [
        "### Logical operators\n",
        "\n",
        "In Python, the logical operators `and`, `or`, and `not` are used. This is unlike in R, in which the symbols `&`, `|`, and `!` are used.\n",
        "\n"
      ],
      "metadata": {
        "id": "PtBhFZSOrhqR"
      }
    },
    {
      "cell_type": "code",
      "source": [
        "True and False"
      ],
      "metadata": {
        "colab": {
          "base_uri": "https://localhost:8080/"
        },
        "id": "mqM2VFt1szrY",
        "outputId": "f8d262bb-b3ff-47cf-963e-f11c5a262f1c"
      },
      "execution_count": null,
      "outputs": [
        {
          "output_type": "execute_result",
          "data": {
            "text/plain": [
              "False"
            ]
          },
          "metadata": {},
          "execution_count": 5
        }
      ]
    },
    {
      "cell_type": "code",
      "source": [
        "True or False"
      ],
      "metadata": {
        "colab": {
          "base_uri": "https://localhost:8080/"
        },
        "id": "WJOxTzuesz62",
        "outputId": "9f09e645-ff29-4cb2-e8ca-9dd2142f5638"
      },
      "execution_count": null,
      "outputs": [
        {
          "output_type": "execute_result",
          "data": {
            "text/plain": [
              "True"
            ]
          },
          "metadata": {},
          "execution_count": 6
        }
      ]
    },
    {
      "cell_type": "markdown",
      "source": [
        "### Converting types\n",
        "\n",
        "Use the functions `int()`, `float()`, and `str()` to convert values from one type to another:"
      ],
      "metadata": {
        "id": "qbRRS6mitGq3"
      }
    },
    {
      "cell_type": "code",
      "source": [
        "x = 3\n",
        "x = str(x)\n",
        "print(x)"
      ],
      "metadata": {
        "colab": {
          "base_uri": "https://localhost:8080/"
        },
        "id": "IvuHQ1G9thjq",
        "outputId": "7ae887b2-7f6b-454b-c766-3a5fbec9654c"
      },
      "execution_count": null,
      "outputs": [
        {
          "output_type": "stream",
          "name": "stdout",
          "text": [
            "3\n"
          ]
        }
      ]
    },
    {
      "cell_type": "markdown",
      "source": [
        "### Exercises\n",
        "\n",
        "\n",
        "\n",
        "1.   Calculate the value of $5 * (2 + 4 ^ 3)$ using Python.\n",
        "2.   In R, you can use the function `is.string()` to determine whether a value is a string. Unfortunately, there isn't a similar function in Python. Can you figure out a way to check whether a value is a string in Python? What about an integer, or a bool?\n",
        "3.   What is the value of `type(type(bool(int(\"3\"))))`?\n",
        "4.   What is the value of **`not(True and not False or False and not (True or False))`**?\n"
      ],
      "metadata": {
        "id": "wJh_0B8ttwS5"
      }
    },
    {
      "cell_type": "code",
      "source": [
        "5*(2+4**3)"
      ],
      "metadata": {
        "colab": {
          "base_uri": "https://localhost:8080/"
        },
        "id": "3VbRBjiVwV6I",
        "outputId": "6c7a9a71-3960-4513-871a-bb3bf72d7871"
      },
      "execution_count": null,
      "outputs": [
        {
          "output_type": "execute_result",
          "data": {
            "text/plain": [
              "330"
            ]
          },
          "metadata": {},
          "execution_count": 14
        }
      ]
    },
    {
      "cell_type": "code",
      "source": [
        "x = \"Hello\"\n",
        "\n",
        "print(x == str(x))"
      ],
      "metadata": {
        "colab": {
          "base_uri": "https://localhost:8080/"
        },
        "id": "TJEHNukAwdgu",
        "outputId": "0b87d52c-afd8-4583-e6fe-ee09fdf3d46d"
      },
      "execution_count": null,
      "outputs": [
        {
          "output_type": "stream",
          "name": "stdout",
          "text": [
            "<class 'str'>\n",
            "Hello\n",
            "False\n",
            "True\n"
          ]
        }
      ]
    },
    {
      "cell_type": "code",
      "source": [
        "type(type(bool(int(\"3\"))))"
      ],
      "metadata": {
        "colab": {
          "base_uri": "https://localhost:8080/"
        },
        "id": "0kGZyuKHvWCS",
        "outputId": "67bd779d-548a-43b0-bb23-af3bfab550b4"
      },
      "execution_count": null,
      "outputs": [
        {
          "output_type": "execute_result",
          "data": {
            "text/plain": [
              "type"
            ]
          },
          "metadata": {},
          "execution_count": 10
        }
      ]
    },
    {
      "cell_type": "code",
      "source": [
        "not(True and not False or False and not (True or False))"
      ],
      "metadata": {
        "colab": {
          "base_uri": "https://localhost:8080/"
        },
        "id": "-GFQPPM_wHRC",
        "outputId": "1d73530d-5a24-4ad4-ac04-4c56d78e7f51"
      },
      "execution_count": null,
      "outputs": [
        {
          "output_type": "execute_result",
          "data": {
            "text/plain": [
              "False"
            ]
          },
          "metadata": {},
          "execution_count": 12
        }
      ]
    },
    {
      "cell_type": "markdown",
      "source": [
        "### Data Structures\n",
        "\n",
        "There are four types of built-in data structures available in Python: lists, dictionaries, tuples, and sets. "
      ],
      "metadata": {
        "id": "4e1PZp5FxPYG"
      }
    },
    {
      "cell_type": "markdown",
      "source": [
        "\n",
        "**Lists** are very much like R vectors, in which they hold a series of values of any type. Lists in Python can be altered, whether it be by deleting or adding elements, or by editing specific elements inside the list. This feature is known as **mutability**. You will later see that some of the other Python data structures do not have this feature."
      ],
      "metadata": {
        "id": "eVdyU_fy2qfq"
      }
    },
    {
      "cell_type": "code",
      "source": [
        "l = [1,2,3,4,5]"
      ],
      "metadata": {
        "id": "sJtkq09iyJFT"
      },
      "execution_count": null,
      "outputs": []
    },
    {
      "cell_type": "markdown",
      "source": [
        "**Tuples** are similar to lists, except that they are **immutable**, i.e. they cannot be altered."
      ],
      "metadata": {
        "id": "07uNv1rD2u04"
      }
    },
    {
      "cell_type": "code",
      "source": [
        "t = (1,3)"
      ],
      "metadata": {
        "id": "kDtMQOoo25tk"
      },
      "execution_count": null,
      "outputs": []
    },
    {
      "cell_type": "markdown",
      "source": [
        "**Dictionaries** are a type of data structure that stores data in key-value pairs. \n",
        "\n",
        "Dictionaries are mutable, however, you cannot change the name of a key."
      ],
      "metadata": {
        "id": "A-XYhmli3DC_"
      }
    },
    {
      "cell_type": "code",
      "source": [
        "wam_dict = {\n",
        "    \"Alice\": 87.4,\n",
        "    \"Bob\": 77.9,\n",
        "    \"Charlie\": 81.3\n",
        "}"
      ],
      "metadata": {
        "id": "hoBrHaX95n96"
      },
      "execution_count": null,
      "outputs": []
    },
    {
      "cell_type": "markdown",
      "source": [
        "**Sets** are a type of **unordered** data structure that store a collection of **unique** values. You cannot change the specific values inside a set, but you can remove and insert elements."
      ],
      "metadata": {
        "id": "dBKyz3NZ7VVd"
      }
    },
    {
      "cell_type": "code",
      "source": [
        "fruits = {\"Apple\", \"Banana\", \"Strawberry\"}\n",
        "print(fruits)\n",
        "\n",
        "fruits.add(\"Mango\")\n",
        "print(fruits)\n",
        "\n",
        "fruits.add(\"Banana\")\n",
        "print(fruits) #This will not return an error, but the duplicate element will not be added\n",
        "\n",
        "fruits.remove(\"Apple\")\n",
        "print(fruits)"
      ],
      "metadata": {
        "colab": {
          "base_uri": "https://localhost:8080/"
        },
        "id": "QcNIYr977rDG",
        "outputId": "93299ea9-e343-4c74-e20b-d392253eceda"
      },
      "execution_count": null,
      "outputs": [
        {
          "output_type": "stream",
          "name": "stdout",
          "text": [
            "{'Banana', 'Apple', 'Strawberry'}\n",
            "{'Mango', 'Banana', 'Apple', 'Strawberry'}\n",
            "{'Mango', 'Banana', 'Apple', 'Strawberry'}\n",
            "{'Mango', 'Banana', 'Strawberry'}\n"
          ]
        }
      ]
    },
    {
      "cell_type": "markdown",
      "source": [
        "### Exercises\n",
        "\n",
        "a) This exercise will get you familiar with Python's built-in list methods.\n",
        "\n",
        "1. Create an empty list and assign it to the variable `l`.\n",
        "2. Append the numbers 7, 2, and 11 to the list.\n",
        "3. Sort the list using the `sort()` method.\n",
        "4. Insert the number 8 at index 1 using the `insert()` method.\n",
        "5. Reverse the list using `reverse()`.\n",
        "6. Call `pop()` on the list twice.\n",
        "7. Use `remove()` to remove the number 11 from the list.\n",
        "8. Print the list.\n",
        "9. Clear the list.\n",
        "\n",
        "b) This exercise will teach you how to build a dictionary by combining a list and a tuple. This can also be done with two lists or two tuples. \n",
        "\n",
        "1. Create a tuple containing the values \"Circle\", \"Triangle\", and \"Square\". Call this tuple `shapes`.\n",
        "2. Create a list containing the values 1, 3, and 4. Call this list `sides`.\n",
        "3. Combine `shapes` and `sides` using `dict(zip())`. Print the dictionary.\n",
        "4. Add `\"Pentagon\": 5` to this dictionary to show that it is mutable. Print the dictionary. "
      ],
      "metadata": {
        "id": "8lz_e2LQ_laI"
      }
    },
    {
      "cell_type": "markdown",
      "source": [
        "### If-else statements\n",
        "In Python, note the use of `elif` rather than `else if`. Also, note that Python uses indentation (as opposed to braces in R, C++, JavaScript, and other langagues) to denote different blocks of code. "
      ],
      "metadata": {
        "id": "rtLe3VcSGuzX"
      }
    },
    {
      "cell_type": "code",
      "source": [
        "profit = -30\n",
        "\n",
        "if profit >= 0:\n",
        "    print(\"Profitable\")\n",
        "elif profit == 0:\n",
        "    print(\"Break even\")\n",
        "else:\n",
        "    print(\"Loss\")"
      ],
      "metadata": {
        "colab": {
          "base_uri": "https://localhost:8080/"
        },
        "id": "ahFLvS0gIc5f",
        "outputId": "fec343af-c7c6-46fe-c450-ba1e15b64377"
      },
      "execution_count": null,
      "outputs": [
        {
          "output_type": "stream",
          "name": "stdout",
          "text": [
            "Loss\n"
          ]
        }
      ]
    },
    {
      "cell_type": "markdown",
      "source": [
        "### For loops\n",
        "\n",
        "You can use `for` loops in Python to iterate through each value in a list, tuple, or other collection."
      ],
      "metadata": {
        "id": "PXTsCtVGKAH5"
      }
    },
    {
      "cell_type": "code",
      "source": [
        "actl_core = [\"ACTL1101\", \"ACTL2111\", \"ACTL2131\", \"ACTL2102\"]\n",
        "\n",
        "for course in actl_core:\n",
        "    print(course)"
      ],
      "metadata": {
        "colab": {
          "base_uri": "https://localhost:8080/"
        },
        "id": "Mps7n3AKKX8d",
        "outputId": "e5933810-1bf4-41e6-e834-7fdb3ed9d685"
      },
      "execution_count": null,
      "outputs": [
        {
          "output_type": "stream",
          "name": "stdout",
          "text": [
            "ACTL1101\n",
            "ACTL2111\n",
            "ACTL2131\n",
            "ACTL2102\n"
          ]
        }
      ]
    },
    {
      "cell_type": "markdown",
      "source": [
        "You can also use `for` loops to iterate through a sequence of numbers by creating the `range()` object."
      ],
      "metadata": {
        "id": "S3n80XyILXva"
      }
    },
    {
      "cell_type": "code",
      "source": [
        "for i in range(5):\n",
        "    print(i ** 2)"
      ],
      "metadata": {
        "colab": {
          "base_uri": "https://localhost:8080/"
        },
        "id": "5Ag-r3DmMFIj",
        "outputId": "16d90d1b-02fb-4756-f734-eaa5627328b3"
      },
      "execution_count": null,
      "outputs": [
        {
          "output_type": "stream",
          "name": "stdout",
          "text": [
            "0\n",
            "1\n",
            "4\n",
            "9\n",
            "16\n"
          ]
        }
      ]
    },
    {
      "cell_type": "markdown",
      "source": [
        "### While loops"
      ],
      "metadata": {
        "id": "Iz_qw6HFMVSc"
      }
    },
    {
      "cell_type": "markdown",
      "source": [
        "`while` loops can be used to perform the same tasks as `for` loops, however, they tend to be more cumbersome to put together."
      ],
      "metadata": {
        "id": "Kogx41BXMd6c"
      }
    },
    {
      "cell_type": "code",
      "source": [
        "i = 0\n",
        "\n",
        "while i < 5:\n",
        "    print(i ** 2)\n",
        "    i += 1"
      ],
      "metadata": {
        "colab": {
          "base_uri": "https://localhost:8080/"
        },
        "id": "ToJi_75BMq4z",
        "outputId": "c6a7cd3e-ea73-44d3-b39d-b013efb66464"
      },
      "execution_count": null,
      "outputs": [
        {
          "output_type": "stream",
          "name": "stdout",
          "text": [
            "0\n",
            "1\n",
            "4\n",
            "9\n",
            "16\n"
          ]
        }
      ]
    },
    {
      "cell_type": "markdown",
      "source": [
        "`while` loops are useful, however, for creating \"sentinel\" loops, in which a loop runs until a variable reaches a specified value called a sentinel:"
      ],
      "metadata": {
        "id": "RiNtQkg9PIUq"
      }
    },
    {
      "cell_type": "code",
      "source": [
        "scores = [9, 9, 6, 7, 3, 10, 0, 1, 4, 6, 2]\n",
        "print(sum(scores))\n",
        "\n",
        "i = 0\n",
        "pre_fail_score = 0\n",
        "\n",
        "while scores[i] != 0: # 0 is a sentinel value\n",
        "    pre_fail_score += scores[i]\n",
        "    i += 1\n",
        "\n",
        "print(pre_fail_score)"
      ],
      "metadata": {
        "colab": {
          "base_uri": "https://localhost:8080/"
        },
        "id": "Nnlzx9DtQgfA",
        "outputId": "2b8e1920-fa63-4c32-9a55-89cd643b9ae3"
      },
      "execution_count": null,
      "outputs": [
        {
          "output_type": "stream",
          "name": "stdout",
          "text": [
            "57\n",
            "44\n"
          ]
        }
      ]
    },
    {
      "cell_type": "markdown",
      "source": [
        "### Exercises\n",
        "\n",
        "1. Recreate the FizzBuzz program - a classic task in coding interviews - in Python. FizzBuzz is a children's game in which people in a circle count to 100 - with a twist. Your FizzBuzz program should loop from 1 to 50, and print, on a new line:\n",
        "\n",
        "* \"Fizz!\" if the current number is divisible by 3\n",
        "* \"Buzz!\" if the current number is divisible by 5\n",
        "* \"FizzBuzz!\" if the current number is divisible by both 3 and 5\n",
        "* Otherwise, print the current number.\n",
        "\n",
        "2. This exercise will introduce you to the `break` and `continue` statements in Python. \n",
        "\n",
        "* Create a new list with the numbers `3, 7, -9, 11, 2, -5, 0, 4`.\n",
        "* Create a variable, `sum_pos`, and set it equal to 0.\n",
        "* Create a for loop that iterates through each of the numbers in the list.\n",
        "* If the current number is positive, add it to `sum_pos`.\n",
        "* If the current number is negative, ignore it and move to the next number using the `continue` statement.\n",
        "* If the current number is zero, stop the loop using `break`. "
      ],
      "metadata": {
        "id": "XeNYToP3Razr"
      }
    },
    {
      "cell_type": "markdown",
      "source": [
        "### Functions\n",
        "\n",
        "Functions are instantiated using the `def` keyword."
      ],
      "metadata": {
        "id": "JYq_Js7dqGW3"
      }
    },
    {
      "cell_type": "code",
      "source": [
        "def addOne(x = 0):\n",
        "    return x + 1\n",
        "\n",
        "print(addOne(10))\n",
        "print(addOne()) #Using default arguments"
      ],
      "metadata": {
        "colab": {
          "base_uri": "https://localhost:8080/"
        },
        "id": "EGeQT7jBqYqi",
        "outputId": "6f844285-db6f-4710-8244-e5e7c8151c87"
      },
      "execution_count": null,
      "outputs": [
        {
          "output_type": "stream",
          "name": "stdout",
          "text": [
            "11\n",
            "1\n"
          ]
        }
      ]
    },
    {
      "cell_type": "markdown",
      "source": [
        "### Exercises\n",
        "\n",
        "1. Build a function, `factorial(n)`, that takes in one input `n`, and returns `n!`.\n",
        "2. Build a function, `fibonacci(n)`, that takes in one input `n`, and returns the `n`th Fibonacci number."
      ],
      "metadata": {
        "id": "pHAau2SsrHXk"
      }
    },
    {
      "cell_type": "markdown",
      "source": [
        "### Libraries\n",
        "\n",
        "Libraries are imported using the `import` keyword:"
      ],
      "metadata": {
        "id": "oOhfEequsiGF"
      }
    },
    {
      "cell_type": "code",
      "source": [
        "import numpy"
      ],
      "metadata": {
        "id": "aXXun6IQtptI"
      },
      "execution_count": null,
      "outputs": []
    },
    {
      "cell_type": "markdown",
      "source": [
        "You can set an alias to the libraries you are importing. Usually this is done to simplify the name of a long library."
      ],
      "metadata": {
        "id": "98KaYR6nttwB"
      }
    },
    {
      "cell_type": "code",
      "source": [
        "import numpy as np\n",
        "import pandas as pd"
      ],
      "metadata": {
        "id": "13Uv3Zzut_xf"
      },
      "execution_count": null,
      "outputs": []
    },
    {
      "cell_type": "markdown",
      "source": [
        "You can also import specific functions from a library by using the `from` keyword:"
      ],
      "metadata": {
        "id": "vHs1DksGuwR1"
      }
    },
    {
      "cell_type": "code",
      "source": [
        "from sklearn.preprocessing import StandardScaler"
      ],
      "metadata": {
        "id": "ZTcuSGdFu2tY"
      },
      "execution_count": null,
      "outputs": []
    },
    {
      "cell_type": "markdown",
      "source": [
        "In this lab, we will be working with two libraries used for data processing, NumPy and Pandas."
      ],
      "metadata": {
        "id": "KRH-900TvEVU"
      }
    },
    {
      "cell_type": "code",
      "source": [
        " "
      ],
      "metadata": {
        "id": "SswVsHGBfEnu"
      },
      "execution_count": null,
      "outputs": []
    },
    {
      "cell_type": "markdown",
      "source": [
        "### A Note on Installing Libraries\n",
        "\n",
        "If you have successfully installed Anaconda onto your system, you should already have NumPy and Pandas installed as well. However, if for some reason you do not have a particular library installed, or you would like to update a particular library, you can use the command line to install new packages.\n",
        "\n",
        "You can either open up Command Prompt/Terminal and type:\n",
        "```\n",
        "pip install numpy\n",
        "```\n",
        "Or, you can open up Anaconda Prompt (which is installed alongside Anaconda) and type:\n",
        "\n",
        "\n",
        "```\n",
        "conda install numpy\n",
        "```\n",
        "The `pip` method will also work on Anaconda Prompt. This will install the libraries onto your machine. When installing libraries, it is highly recommended that you create a Conda **environment**, as this allows you to install and manage separate sets of libraries for each Python project you are working on.\n",
        "\n",
        "For a tutorial on how to set up your own environments, see https://docs.conda.io/projects/conda/en/latest/user-guide/concepts/environments.html\n",
        "\n"
      ],
      "metadata": {
        "id": "VXOxnH4heWGd"
      }
    },
    {
      "cell_type": "markdown",
      "source": [
        "## NumPy\n",
        "NumPy is a package used for scientific computing in Python, with the ability to perform advanced mathematical operations, linear algebra, and vectorisation. Core to the NumPy package is the NumPy array. \n",
        "\n",
        "### NumPy 1D arrays\n",
        "\n",
        "Unlike lists in base Python, NumPy arrays can only work with numerical data. NumPy arrays are also faster and consumes less memory than Python lists (source: numpy.org/doc/stable/user/absolute_beginners.html). "
      ],
      "metadata": {
        "id": "_0gED29tvLIR"
      }
    },
    {
      "cell_type": "code",
      "source": [
        "l1 = [1,1,1]\n",
        "l2 = [2,2,2]\n",
        "\n",
        "a1 = np.array(l1)\n",
        "a2 = np.array(l2)\n",
        "\n",
        "#What do you notice?\n",
        "print(l1 + l2)\n",
        "print(a1 + a2)"
      ],
      "metadata": {
        "colab": {
          "base_uri": "https://localhost:8080/"
        },
        "id": "GJWlQ-bNzoIO",
        "outputId": "8a383ea9-01d4-4289-a1eb-90dc512b0fde"
      },
      "execution_count": null,
      "outputs": [
        {
          "output_type": "stream",
          "name": "stdout",
          "text": [
            "[1, 1, 1, 2, 2, 2]\n",
            "[3 3 3]\n"
          ]
        }
      ]
    },
    {
      "cell_type": "markdown",
      "source": [
        "As you can see in the above code snippet, NumPy arrays are designed for linear algebra operations. \n",
        "\n",
        "Other operations you can do include adding and multiplying arrays by a constant, calculating determinants of matrices, and even calculating eigenvalues and eigenvectors:"
      ],
      "metadata": {
        "id": "s9OUcc4h0qo-"
      }
    },
    {
      "cell_type": "code",
      "source": [
        "a1 + 3 #adds 3 to each element of the array, returns an error if done to a list\n",
        "a1 * 3 #multiplies each element by 3"
      ],
      "metadata": {
        "colab": {
          "base_uri": "https://localhost:8080/"
        },
        "id": "kOkFCAX02hIa",
        "outputId": "3f176f5c-3ec1-47c8-b777-dc009ead9f43"
      },
      "execution_count": null,
      "outputs": [
        {
          "output_type": "execute_result",
          "data": {
            "text/plain": [
              "array([3, 3, 3])"
            ]
          },
          "metadata": {},
          "execution_count": 43
        }
      ]
    },
    {
      "cell_type": "code",
      "source": [
        "m1 = np.array([[2,4],[1,3]]) #creating a 2D array, i.e. a matrix\n",
        "print(m1)\n",
        "\n",
        "print(np.linalg.det(m1)) #Determinant\n",
        "print(np.linalg.eig(m1)) #Eigenvalues and eigenvectors"
      ],
      "metadata": {
        "colab": {
          "base_uri": "https://localhost:8080/"
        },
        "id": "FmCCrkHq2nEa",
        "outputId": "c2c0ad50-9dd6-4867-abdc-2b91c4e86274"
      },
      "execution_count": null,
      "outputs": [
        {
          "output_type": "stream",
          "name": "stdout",
          "text": [
            "[[2 4]\n",
            " [1 3]]\n",
            "2.0\n",
            "(array([0.43844719, 4.56155281]), array([[-0.93153209, -0.84212294],\n",
            "       [ 0.36365914, -0.5392856 ]]))\n"
          ]
        }
      ]
    },
    {
      "cell_type": "markdown",
      "source": [
        "You can create arrays using ranges or linearly spaced sequences:"
      ],
      "metadata": {
        "id": "oMyPjNMF4P9u"
      }
    },
    {
      "cell_type": "code",
      "source": [
        "array_range = np.arange(5)\n",
        "array_lin = np.linspace(start = 0, stop = 1, num = 6)\n",
        "\n",
        "print(array_range)\n",
        "print(array_lin)"
      ],
      "metadata": {
        "colab": {
          "base_uri": "https://localhost:8080/"
        },
        "id": "I3UQjxB44Xs-",
        "outputId": "532052fe-aab3-4c22-e1ce-f5501b869890"
      },
      "execution_count": null,
      "outputs": [
        {
          "output_type": "stream",
          "name": "stdout",
          "text": [
            "[0 1 2 3 4]\n",
            "[0.  0.2 0.4 0.6 0.8 1. ]\n"
          ]
        }
      ]
    },
    {
      "cell_type": "markdown",
      "source": [
        "### NumPy 2D arrays\n",
        "\n",
        "As mentioned beforehand, you can create a matrix by feeding a list of lists into `np.array()`:"
      ],
      "metadata": {
        "id": "3l11uXak8UB9"
      }
    },
    {
      "cell_type": "code",
      "source": [
        "m1 = np.array([[2,4],[1,3]])"
      ],
      "metadata": {
        "id": "0i-MsH5X88tm"
      },
      "execution_count": null,
      "outputs": []
    },
    {
      "cell_type": "markdown",
      "source": [
        "You can also create matrices of zeroes and identity matrices:"
      ],
      "metadata": {
        "id": "8xY-ev0X9AR8"
      }
    },
    {
      "cell_type": "code",
      "source": [
        "m_zero = np.zeros([3,3]) #3 x 3 matrix\n",
        "print(m_zero)\n",
        "\n",
        "m_ones = np.ones([3,3])\n",
        "print(m_ones)\n",
        "\n",
        "m_id = np.identity(3)\n",
        "print(m_id)"
      ],
      "metadata": {
        "colab": {
          "base_uri": "https://localhost:8080/"
        },
        "id": "8gudvnGV9flO",
        "outputId": "63839cc3-338f-4463-b904-65acedf6321c"
      },
      "execution_count": null,
      "outputs": [
        {
          "output_type": "stream",
          "name": "stdout",
          "text": [
            "[[0. 0. 0.]\n",
            " [0. 0. 0.]\n",
            " [0. 0. 0.]]\n",
            "[[1. 1. 1.]\n",
            " [1. 1. 1.]\n",
            " [1. 1. 1.]]\n",
            "[[1. 0. 0.]\n",
            " [0. 1. 0.]\n",
            " [0. 0. 1.]]\n"
          ]
        }
      ]
    },
    {
      "cell_type": "markdown",
      "source": [
        "## Pandas\n",
        "\n",
        "Pandas is a Python library used for working with tabular data. It contains tools for data manipulation, time series, and data visualisation. Pandas can be considered a Python equivalent to `dplyr`, and core to Pandas is the `DataFrame` object, which is analogous to R's `data.frame` type."
      ],
      "metadata": {
        "id": "OjIGnjZ4ApmU"
      }
    },
    {
      "cell_type": "code",
      "source": [
        "#Importing the library\n",
        "import pandas as pd"
      ],
      "metadata": {
        "id": "duJGVHXLFCVd"
      },
      "execution_count": null,
      "outputs": []
    },
    {
      "cell_type": "markdown",
      "source": [
        "### DataFrames\n",
        "\n",
        "For this lab we will be working with the Titanic machine learning dataset - a legendary dataset in the data science community. It is available at https://www.kaggle.com/competitions/titanic/data, and we will specifically be using `train.csv`.\n",
        "\n",
        "To use the dataset in Google Colab, we need to upload and then import it. To see which datasets are available in Google Colab, click the folder icon on the sidebar. Here, you can see the datasets you have uploaded, as well as any sample datasets that are already built into Google Colab. To upload files, click the upload icon that appears and select the file that you want to upload.\n",
        "\n",
        "![google_colab_files.png](data:image/png;base64,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)"
      ],
      "metadata": {
        "id": "IMDPDaKSqfom"
      }
    },
    {
      "cell_type": "markdown",
      "source": [
        "We will import the dataset using Pandas' `read_csv()` function."
      ],
      "metadata": {
        "id": "h5c8WgtTu_4S"
      }
    },
    {
      "cell_type": "code",
      "source": [
        "titanic = pd.read_csv(\"train.csv\")"
      ],
      "metadata": {
        "id": "x9st0Rd4u621"
      },
      "execution_count": null,
      "outputs": []
    },
    {
      "cell_type": "markdown",
      "source": [
        "This creates a `DataFrame` object, which is a 2-dimensional, tabular data structure.\n",
        "\n",
        "There are a number of methods available in Pandas to inspect your data, including `.head()` and `.info()`.\n",
        "\n"
      ],
      "metadata": {
        "id": "nWj-ZCySvMgC"
      }
    },
    {
      "cell_type": "code",
      "source": [
        "titanic.head() #much like the head() function in R, this method prints the first 5 rows of the dataset."
      ],
      "metadata": {
        "colab": {
          "base_uri": "https://localhost:8080/",
          "height": 206
        },
        "id": "mxr1ibxRvNMp",
        "outputId": "7248ebda-6622-40ec-8252-3a39143f4b74"
      },
      "execution_count": null,
      "outputs": [
        {
          "output_type": "execute_result",
          "data": {
            "text/plain": [
              "   PassengerId  Survived  Pclass  \\\n",
              "0            1         0       3   \n",
              "1            2         1       1   \n",
              "2            3         1       3   \n",
              "3            4         1       1   \n",
              "4            5         0       3   \n",
              "\n",
              "                                                Name     Sex   Age  SibSp  \\\n",
              "0                            Braund, Mr. Owen Harris    male  22.0      1   \n",
              "1  Cumings, Mrs. John Bradley (Florence Briggs Th...  female  38.0      1   \n",
              "2                             Heikkinen, Miss. Laina  female  26.0      0   \n",
              "3       Futrelle, Mrs. Jacques Heath (Lily May Peel)  female  35.0      1   \n",
              "4                           Allen, Mr. William Henry    male  35.0      0   \n",
              "\n",
              "   Parch            Ticket     Fare Cabin Embarked  \n",
              "0      0         A/5 21171   7.2500   NaN        S  \n",
              "1      0          PC 17599  71.2833   C85        C  \n",
              "2      0  STON/O2. 3101282   7.9250   NaN        S  \n",
              "3      0            113803  53.1000  C123        S  \n",
              "4      0            373450   8.0500   NaN        S  "
            ],
            "text/html": [
              "\n",
              "  <div id=\"df-51930ed1-c8db-4084-bc1a-85edeb498024\">\n",
              "    <div class=\"colab-df-container\">\n",
              "      <div>\n",
              "<style scoped>\n",
              "    .dataframe tbody tr th:only-of-type {\n",
              "        vertical-align: middle;\n",
              "    }\n",
              "\n",
              "    .dataframe tbody tr th {\n",
              "        vertical-align: top;\n",
              "    }\n",
              "\n",
              "    .dataframe thead th {\n",
              "        text-align: right;\n",
              "    }\n",
              "</style>\n",
              "<table border=\"1\" class=\"dataframe\">\n",
              "  <thead>\n",
              "    <tr style=\"text-align: right;\">\n",
              "      <th></th>\n",
              "      <th>PassengerId</th>\n",
              "      <th>Survived</th>\n",
              "      <th>Pclass</th>\n",
              "      <th>Name</th>\n",
              "      <th>Sex</th>\n",
              "      <th>Age</th>\n",
              "      <th>SibSp</th>\n",
              "      <th>Parch</th>\n",
              "      <th>Ticket</th>\n",
              "      <th>Fare</th>\n",
              "      <th>Cabin</th>\n",
              "      <th>Embarked</th>\n",
              "    </tr>\n",
              "  </thead>\n",
              "  <tbody>\n",
              "    <tr>\n",
              "      <th>0</th>\n",
              "      <td>1</td>\n",
              "      <td>0</td>\n",
              "      <td>3</td>\n",
              "      <td>Braund, Mr. Owen Harris</td>\n",
              "      <td>male</td>\n",
              "      <td>22.0</td>\n",
              "      <td>1</td>\n",
              "      <td>0</td>\n",
              "      <td>A/5 21171</td>\n",
              "      <td>7.2500</td>\n",
              "      <td>NaN</td>\n",
              "      <td>S</td>\n",
              "    </tr>\n",
              "    <tr>\n",
              "      <th>1</th>\n",
              "      <td>2</td>\n",
              "      <td>1</td>\n",
              "      <td>1</td>\n",
              "      <td>Cumings, Mrs. John Bradley (Florence Briggs Th...</td>\n",
              "      <td>female</td>\n",
              "      <td>38.0</td>\n",
              "      <td>1</td>\n",
              "      <td>0</td>\n",
              "      <td>PC 17599</td>\n",
              "      <td>71.2833</td>\n",
              "      <td>C85</td>\n",
              "      <td>C</td>\n",
              "    </tr>\n",
              "    <tr>\n",
              "      <th>2</th>\n",
              "      <td>3</td>\n",
              "      <td>1</td>\n",
              "      <td>3</td>\n",
              "      <td>Heikkinen, Miss. Laina</td>\n",
              "      <td>female</td>\n",
              "      <td>26.0</td>\n",
              "      <td>0</td>\n",
              "      <td>0</td>\n",
              "      <td>STON/O2. 3101282</td>\n",
              "      <td>7.9250</td>\n",
              "      <td>NaN</td>\n",
              "      <td>S</td>\n",
              "    </tr>\n",
              "    <tr>\n",
              "      <th>3</th>\n",
              "      <td>4</td>\n",
              "      <td>1</td>\n",
              "      <td>1</td>\n",
              "      <td>Futrelle, Mrs. Jacques Heath (Lily May Peel)</td>\n",
              "      <td>female</td>\n",
              "      <td>35.0</td>\n",
              "      <td>1</td>\n",
              "      <td>0</td>\n",
              "      <td>113803</td>\n",
              "      <td>53.1000</td>\n",
              "      <td>C123</td>\n",
              "      <td>S</td>\n",
              "    </tr>\n",
              "    <tr>\n",
              "      <th>4</th>\n",
              "      <td>5</td>\n",
              "      <td>0</td>\n",
              "      <td>3</td>\n",
              "      <td>Allen, Mr. William Henry</td>\n",
              "      <td>male</td>\n",
              "      <td>35.0</td>\n",
              "      <td>0</td>\n",
              "      <td>0</td>\n",
              "      <td>373450</td>\n",
              "      <td>8.0500</td>\n",
              "      <td>NaN</td>\n",
              "      <td>S</td>\n",
              "    </tr>\n",
              "  </tbody>\n",
              "</table>\n",
              "</div>\n",
              "      <button class=\"colab-df-convert\" onclick=\"convertToInteractive('df-51930ed1-c8db-4084-bc1a-85edeb498024')\"\n",
              "              title=\"Convert this dataframe to an interactive table.\"\n",
              "              style=\"display:none;\">\n",
              "        \n",
              "  <svg xmlns=\"http://www.w3.org/2000/svg\" height=\"24px\"viewBox=\"0 0 24 24\"\n",
              "       width=\"24px\">\n",
              "    <path d=\"M0 0h24v24H0V0z\" fill=\"none\"/>\n",
              "    <path d=\"M18.56 5.44l.94 2.06.94-2.06 2.06-.94-2.06-.94-.94-2.06-.94 2.06-2.06.94zm-11 1L8.5 8.5l.94-2.06 2.06-.94-2.06-.94L8.5 2.5l-.94 2.06-2.06.94zm10 10l.94 2.06.94-2.06 2.06-.94-2.06-.94-.94-2.06-.94 2.06-2.06.94z\"/><path d=\"M17.41 7.96l-1.37-1.37c-.4-.4-.92-.59-1.43-.59-.52 0-1.04.2-1.43.59L10.3 9.45l-7.72 7.72c-.78.78-.78 2.05 0 2.83L4 21.41c.39.39.9.59 1.41.59.51 0 1.02-.2 1.41-.59l7.78-7.78 2.81-2.81c.8-.78.8-2.07 0-2.86zM5.41 20L4 18.59l7.72-7.72 1.47 1.35L5.41 20z\"/>\n",
              "  </svg>\n",
              "      </button>\n",
              "      \n",
              "  <style>\n",
              "    .colab-df-container {\n",
              "      display:flex;\n",
              "      flex-wrap:wrap;\n",
              "      gap: 12px;\n",
              "    }\n",
              "\n",
              "    .colab-df-convert {\n",
              "      background-color: #E8F0FE;\n",
              "      border: none;\n",
              "      border-radius: 50%;\n",
              "      cursor: pointer;\n",
              "      display: none;\n",
              "      fill: #1967D2;\n",
              "      height: 32px;\n",
              "      padding: 0 0 0 0;\n",
              "      width: 32px;\n",
              "    }\n",
              "\n",
              "    .colab-df-convert:hover {\n",
              "      background-color: #E2EBFA;\n",
              "      box-shadow: 0px 1px 2px rgba(60, 64, 67, 0.3), 0px 1px 3px 1px rgba(60, 64, 67, 0.15);\n",
              "      fill: #174EA6;\n",
              "    }\n",
              "\n",
              "    [theme=dark] .colab-df-convert {\n",
              "      background-color: #3B4455;\n",
              "      fill: #D2E3FC;\n",
              "    }\n",
              "\n",
              "    [theme=dark] .colab-df-convert:hover {\n",
              "      background-color: #434B5C;\n",
              "      box-shadow: 0px 1px 3px 1px rgba(0, 0, 0, 0.15);\n",
              "      filter: drop-shadow(0px 1px 2px rgba(0, 0, 0, 0.3));\n",
              "      fill: #FFFFFF;\n",
              "    }\n",
              "  </style>\n",
              "\n",
              "      <script>\n",
              "        const buttonEl =\n",
              "          document.querySelector('#df-51930ed1-c8db-4084-bc1a-85edeb498024 button.colab-df-convert');\n",
              "        buttonEl.style.display =\n",
              "          google.colab.kernel.accessAllowed ? 'block' : 'none';\n",
              "\n",
              "        async function convertToInteractive(key) {\n",
              "          const element = document.querySelector('#df-51930ed1-c8db-4084-bc1a-85edeb498024');\n",
              "          const dataTable =\n",
              "            await google.colab.kernel.invokeFunction('convertToInteractive',\n",
              "                                                     [key], {});\n",
              "          if (!dataTable) return;\n",
              "\n",
              "          const docLinkHtml = 'Like what you see? Visit the ' +\n",
              "            '<a target=\"_blank\" href=https://colab.research.google.com/notebooks/data_table.ipynb>data table notebook</a>'\n",
              "            + ' to learn more about interactive tables.';\n",
              "          element.innerHTML = '';\n",
              "          dataTable['output_type'] = 'display_data';\n",
              "          await google.colab.output.renderOutput(dataTable, element);\n",
              "          const docLink = document.createElement('div');\n",
              "          docLink.innerHTML = docLinkHtml;\n",
              "          element.appendChild(docLink);\n",
              "        }\n",
              "      </script>\n",
              "    </div>\n",
              "  </div>\n",
              "  "
            ]
          },
          "metadata": {},
          "execution_count": 18
        }
      ]
    },
    {
      "cell_type": "code",
      "source": [
        "titanic.tail(10) #prints last 10 rows"
      ],
      "metadata": {
        "colab": {
          "base_uri": "https://localhost:8080/",
          "height": 363
        },
        "id": "-2k5GhBkv4Mk",
        "outputId": "103b6c52-033e-4c18-c2bf-2de61afc6eee"
      },
      "execution_count": null,
      "outputs": [
        {
          "output_type": "execute_result",
          "data": {
            "text/plain": [
              "     PassengerId  Survived  Pclass                                      Name  \\\n",
              "881          882         0       3                        Markun, Mr. Johann   \n",
              "882          883         0       3              Dahlberg, Miss. Gerda Ulrika   \n",
              "883          884         0       2             Banfield, Mr. Frederick James   \n",
              "884          885         0       3                    Sutehall, Mr. Henry Jr   \n",
              "885          886         0       3      Rice, Mrs. William (Margaret Norton)   \n",
              "886          887         0       2                     Montvila, Rev. Juozas   \n",
              "887          888         1       1              Graham, Miss. Margaret Edith   \n",
              "888          889         0       3  Johnston, Miss. Catherine Helen \"Carrie\"   \n",
              "889          890         1       1                     Behr, Mr. Karl Howell   \n",
              "890          891         0       3                       Dooley, Mr. Patrick   \n",
              "\n",
              "        Sex   Age  SibSp  Parch            Ticket     Fare Cabin Embarked  \n",
              "881    male  33.0      0      0            349257   7.8958   NaN        S  \n",
              "882  female  22.0      0      0              7552  10.5167   NaN        S  \n",
              "883    male  28.0      0      0  C.A./SOTON 34068  10.5000   NaN        S  \n",
              "884    male  25.0      0      0   SOTON/OQ 392076   7.0500   NaN        S  \n",
              "885  female  39.0      0      5            382652  29.1250   NaN        Q  \n",
              "886    male  27.0      0      0            211536  13.0000   NaN        S  \n",
              "887  female  19.0      0      0            112053  30.0000   B42        S  \n",
              "888  female   NaN      1      2        W./C. 6607  23.4500   NaN        S  \n",
              "889    male  26.0      0      0            111369  30.0000  C148        C  \n",
              "890    male  32.0      0      0            370376   7.7500   NaN        Q  "
            ],
            "text/html": [
              "\n",
              "  <div id=\"df-97af5427-5aeb-45b4-b441-cb75d814f288\">\n",
              "    <div class=\"colab-df-container\">\n",
              "      <div>\n",
              "<style scoped>\n",
              "    .dataframe tbody tr th:only-of-type {\n",
              "        vertical-align: middle;\n",
              "    }\n",
              "\n",
              "    .dataframe tbody tr th {\n",
              "        vertical-align: top;\n",
              "    }\n",
              "\n",
              "    .dataframe thead th {\n",
              "        text-align: right;\n",
              "    }\n",
              "</style>\n",
              "<table border=\"1\" class=\"dataframe\">\n",
              "  <thead>\n",
              "    <tr style=\"text-align: right;\">\n",
              "      <th></th>\n",
              "      <th>PassengerId</th>\n",
              "      <th>Survived</th>\n",
              "      <th>Pclass</th>\n",
              "      <th>Name</th>\n",
              "      <th>Sex</th>\n",
              "      <th>Age</th>\n",
              "      <th>SibSp</th>\n",
              "      <th>Parch</th>\n",
              "      <th>Ticket</th>\n",
              "      <th>Fare</th>\n",
              "      <th>Cabin</th>\n",
              "      <th>Embarked</th>\n",
              "    </tr>\n",
              "  </thead>\n",
              "  <tbody>\n",
              "    <tr>\n",
              "      <th>881</th>\n",
              "      <td>882</td>\n",
              "      <td>0</td>\n",
              "      <td>3</td>\n",
              "      <td>Markun, Mr. Johann</td>\n",
              "      <td>male</td>\n",
              "      <td>33.0</td>\n",
              "      <td>0</td>\n",
              "      <td>0</td>\n",
              "      <td>349257</td>\n",
              "      <td>7.8958</td>\n",
              "      <td>NaN</td>\n",
              "      <td>S</td>\n",
              "    </tr>\n",
              "    <tr>\n",
              "      <th>882</th>\n",
              "      <td>883</td>\n",
              "      <td>0</td>\n",
              "      <td>3</td>\n",
              "      <td>Dahlberg, Miss. Gerda Ulrika</td>\n",
              "      <td>female</td>\n",
              "      <td>22.0</td>\n",
              "      <td>0</td>\n",
              "      <td>0</td>\n",
              "      <td>7552</td>\n",
              "      <td>10.5167</td>\n",
              "      <td>NaN</td>\n",
              "      <td>S</td>\n",
              "    </tr>\n",
              "    <tr>\n",
              "      <th>883</th>\n",
              "      <td>884</td>\n",
              "      <td>0</td>\n",
              "      <td>2</td>\n",
              "      <td>Banfield, Mr. Frederick James</td>\n",
              "      <td>male</td>\n",
              "      <td>28.0</td>\n",
              "      <td>0</td>\n",
              "      <td>0</td>\n",
              "      <td>C.A./SOTON 34068</td>\n",
              "      <td>10.5000</td>\n",
              "      <td>NaN</td>\n",
              "      <td>S</td>\n",
              "    </tr>\n",
              "    <tr>\n",
              "      <th>884</th>\n",
              "      <td>885</td>\n",
              "      <td>0</td>\n",
              "      <td>3</td>\n",
              "      <td>Sutehall, Mr. Henry Jr</td>\n",
              "      <td>male</td>\n",
              "      <td>25.0</td>\n",
              "      <td>0</td>\n",
              "      <td>0</td>\n",
              "      <td>SOTON/OQ 392076</td>\n",
              "      <td>7.0500</td>\n",
              "      <td>NaN</td>\n",
              "      <td>S</td>\n",
              "    </tr>\n",
              "    <tr>\n",
              "      <th>885</th>\n",
              "      <td>886</td>\n",
              "      <td>0</td>\n",
              "      <td>3</td>\n",
              "      <td>Rice, Mrs. William (Margaret Norton)</td>\n",
              "      <td>female</td>\n",
              "      <td>39.0</td>\n",
              "      <td>0</td>\n",
              "      <td>5</td>\n",
              "      <td>382652</td>\n",
              "      <td>29.1250</td>\n",
              "      <td>NaN</td>\n",
              "      <td>Q</td>\n",
              "    </tr>\n",
              "    <tr>\n",
              "      <th>886</th>\n",
              "      <td>887</td>\n",
              "      <td>0</td>\n",
              "      <td>2</td>\n",
              "      <td>Montvila, Rev. Juozas</td>\n",
              "      <td>male</td>\n",
              "      <td>27.0</td>\n",
              "      <td>0</td>\n",
              "      <td>0</td>\n",
              "      <td>211536</td>\n",
              "      <td>13.0000</td>\n",
              "      <td>NaN</td>\n",
              "      <td>S</td>\n",
              "    </tr>\n",
              "    <tr>\n",
              "      <th>887</th>\n",
              "      <td>888</td>\n",
              "      <td>1</td>\n",
              "      <td>1</td>\n",
              "      <td>Graham, Miss. Margaret Edith</td>\n",
              "      <td>female</td>\n",
              "      <td>19.0</td>\n",
              "      <td>0</td>\n",
              "      <td>0</td>\n",
              "      <td>112053</td>\n",
              "      <td>30.0000</td>\n",
              "      <td>B42</td>\n",
              "      <td>S</td>\n",
              "    </tr>\n",
              "    <tr>\n",
              "      <th>888</th>\n",
              "      <td>889</td>\n",
              "      <td>0</td>\n",
              "      <td>3</td>\n",
              "      <td>Johnston, Miss. Catherine Helen \"Carrie\"</td>\n",
              "      <td>female</td>\n",
              "      <td>NaN</td>\n",
              "      <td>1</td>\n",
              "      <td>2</td>\n",
              "      <td>W./C. 6607</td>\n",
              "      <td>23.4500</td>\n",
              "      <td>NaN</td>\n",
              "      <td>S</td>\n",
              "    </tr>\n",
              "    <tr>\n",
              "      <th>889</th>\n",
              "      <td>890</td>\n",
              "      <td>1</td>\n",
              "      <td>1</td>\n",
              "      <td>Behr, Mr. Karl Howell</td>\n",
              "      <td>male</td>\n",
              "      <td>26.0</td>\n",
              "      <td>0</td>\n",
              "      <td>0</td>\n",
              "      <td>111369</td>\n",
              "      <td>30.0000</td>\n",
              "      <td>C148</td>\n",
              "      <td>C</td>\n",
              "    </tr>\n",
              "    <tr>\n",
              "      <th>890</th>\n",
              "      <td>891</td>\n",
              "      <td>0</td>\n",
              "      <td>3</td>\n",
              "      <td>Dooley, Mr. Patrick</td>\n",
              "      <td>male</td>\n",
              "      <td>32.0</td>\n",
              "      <td>0</td>\n",
              "      <td>0</td>\n",
              "      <td>370376</td>\n",
              "      <td>7.7500</td>\n",
              "      <td>NaN</td>\n",
              "      <td>Q</td>\n",
              "    </tr>\n",
              "  </tbody>\n",
              "</table>\n",
              "</div>\n",
              "      <button class=\"colab-df-convert\" onclick=\"convertToInteractive('df-97af5427-5aeb-45b4-b441-cb75d814f288')\"\n",
              "              title=\"Convert this dataframe to an interactive table.\"\n",
              "              style=\"display:none;\">\n",
              "        \n",
              "  <svg xmlns=\"http://www.w3.org/2000/svg\" height=\"24px\"viewBox=\"0 0 24 24\"\n",
              "       width=\"24px\">\n",
              "    <path d=\"M0 0h24v24H0V0z\" fill=\"none\"/>\n",
              "    <path d=\"M18.56 5.44l.94 2.06.94-2.06 2.06-.94-2.06-.94-.94-2.06-.94 2.06-2.06.94zm-11 1L8.5 8.5l.94-2.06 2.06-.94-2.06-.94L8.5 2.5l-.94 2.06-2.06.94zm10 10l.94 2.06.94-2.06 2.06-.94-2.06-.94-.94-2.06-.94 2.06-2.06.94z\"/><path d=\"M17.41 7.96l-1.37-1.37c-.4-.4-.92-.59-1.43-.59-.52 0-1.04.2-1.43.59L10.3 9.45l-7.72 7.72c-.78.78-.78 2.05 0 2.83L4 21.41c.39.39.9.59 1.41.59.51 0 1.02-.2 1.41-.59l7.78-7.78 2.81-2.81c.8-.78.8-2.07 0-2.86zM5.41 20L4 18.59l7.72-7.72 1.47 1.35L5.41 20z\"/>\n",
              "  </svg>\n",
              "      </button>\n",
              "      \n",
              "  <style>\n",
              "    .colab-df-container {\n",
              "      display:flex;\n",
              "      flex-wrap:wrap;\n",
              "      gap: 12px;\n",
              "    }\n",
              "\n",
              "    .colab-df-convert {\n",
              "      background-color: #E8F0FE;\n",
              "      border: none;\n",
              "      border-radius: 50%;\n",
              "      cursor: pointer;\n",
              "      display: none;\n",
              "      fill: #1967D2;\n",
              "      height: 32px;\n",
              "      padding: 0 0 0 0;\n",
              "      width: 32px;\n",
              "    }\n",
              "\n",
              "    .colab-df-convert:hover {\n",
              "      background-color: #E2EBFA;\n",
              "      box-shadow: 0px 1px 2px rgba(60, 64, 67, 0.3), 0px 1px 3px 1px rgba(60, 64, 67, 0.15);\n",
              "      fill: #174EA6;\n",
              "    }\n",
              "\n",
              "    [theme=dark] .colab-df-convert {\n",
              "      background-color: #3B4455;\n",
              "      fill: #D2E3FC;\n",
              "    }\n",
              "\n",
              "    [theme=dark] .colab-df-convert:hover {\n",
              "      background-color: #434B5C;\n",
              "      box-shadow: 0px 1px 3px 1px rgba(0, 0, 0, 0.15);\n",
              "      filter: drop-shadow(0px 1px 2px rgba(0, 0, 0, 0.3));\n",
              "      fill: #FFFFFF;\n",
              "    }\n",
              "  </style>\n",
              "\n",
              "      <script>\n",
              "        const buttonEl =\n",
              "          document.querySelector('#df-97af5427-5aeb-45b4-b441-cb75d814f288 button.colab-df-convert');\n",
              "        buttonEl.style.display =\n",
              "          google.colab.kernel.accessAllowed ? 'block' : 'none';\n",
              "\n",
              "        async function convertToInteractive(key) {\n",
              "          const element = document.querySelector('#df-97af5427-5aeb-45b4-b441-cb75d814f288');\n",
              "          const dataTable =\n",
              "            await google.colab.kernel.invokeFunction('convertToInteractive',\n",
              "                                                     [key], {});\n",
              "          if (!dataTable) return;\n",
              "\n",
              "          const docLinkHtml = 'Like what you see? Visit the ' +\n",
              "            '<a target=\"_blank\" href=https://colab.research.google.com/notebooks/data_table.ipynb>data table notebook</a>'\n",
              "            + ' to learn more about interactive tables.';\n",
              "          element.innerHTML = '';\n",
              "          dataTable['output_type'] = 'display_data';\n",
              "          await google.colab.output.renderOutput(dataTable, element);\n",
              "          const docLink = document.createElement('div');\n",
              "          docLink.innerHTML = docLinkHtml;\n",
              "          element.appendChild(docLink);\n",
              "        }\n",
              "      </script>\n",
              "    </div>\n",
              "  </div>\n",
              "  "
            ]
          },
          "metadata": {},
          "execution_count": 5
        }
      ]
    },
    {
      "cell_type": "code",
      "source": [
        "titanic.info() #gives a list of columns, their counts and their types, akin to the str() function in R."
      ],
      "metadata": {
        "colab": {
          "base_uri": "https://localhost:8080/"
        },
        "id": "rBpZZ7tXv5hz",
        "outputId": "39bb66d0-8241-42b3-822b-e0cf60f9848a"
      },
      "execution_count": null,
      "outputs": [
        {
          "output_type": "stream",
          "name": "stdout",
          "text": [
            "<class 'pandas.core.frame.DataFrame'>\n",
            "RangeIndex: 891 entries, 0 to 890\n",
            "Data columns (total 12 columns):\n",
            " #   Column       Non-Null Count  Dtype  \n",
            "---  ------       --------------  -----  \n",
            " 0   PassengerId  891 non-null    int64  \n",
            " 1   Survived     891 non-null    int64  \n",
            " 2   Pclass       891 non-null    int64  \n",
            " 3   Name         891 non-null    object \n",
            " 4   Sex          891 non-null    object \n",
            " 5   Age          714 non-null    float64\n",
            " 6   SibSp        891 non-null    int64  \n",
            " 7   Parch        891 non-null    int64  \n",
            " 8   Ticket       891 non-null    object \n",
            " 9   Fare         891 non-null    float64\n",
            " 10  Cabin        204 non-null    object \n",
            " 11  Embarked     889 non-null    object \n",
            "dtypes: float64(2), int64(5), object(5)\n",
            "memory usage: 83.7+ KB\n"
          ]
        }
      ]
    },
    {
      "cell_type": "markdown",
      "source": [
        "Selecting columns of a Pandas DataFrame is done using square brackets notation:"
      ],
      "metadata": {
        "id": "1CR7TyWrwbKv"
      }
    },
    {
      "cell_type": "code",
      "source": [
        "# Selecting \"Age\" column from dataset\n",
        "titanic[\"Age\"]"
      ],
      "metadata": {
        "colab": {
          "base_uri": "https://localhost:8080/"
        },
        "id": "IQpURIhLwZ7g",
        "outputId": "1a1103f8-5429-4487-da73-b8a4c84de33b"
      },
      "execution_count": null,
      "outputs": [
        {
          "output_type": "execute_result",
          "data": {
            "text/plain": [
              "0      22.0\n",
              "1      38.0\n",
              "2      26.0\n",
              "3      35.0\n",
              "4      35.0\n",
              "       ... \n",
              "886    27.0\n",
              "887    19.0\n",
              "888     NaN\n",
              "889    26.0\n",
              "890    32.0\n",
              "Name: Age, Length: 891, dtype: float64"
            ]
          },
          "metadata": {},
          "execution_count": 7
        }
      ]
    },
    {
      "cell_type": "code",
      "source": [
        "#Selecting multiple columns\n",
        "titanic[[\"Sex\",\"Age\"]]"
      ],
      "metadata": {
        "colab": {
          "base_uri": "https://localhost:8080/",
          "height": 424
        },
        "id": "3Df_zUW3wmwY",
        "outputId": "3b326882-2c00-4d92-da1e-0a9250fb6a98"
      },
      "execution_count": null,
      "outputs": [
        {
          "output_type": "execute_result",
          "data": {
            "text/plain": [
              "        Sex   Age\n",
              "0      male  22.0\n",
              "1    female  38.0\n",
              "2    female  26.0\n",
              "3    female  35.0\n",
              "4      male  35.0\n",
              "..      ...   ...\n",
              "886    male  27.0\n",
              "887  female  19.0\n",
              "888  female   NaN\n",
              "889    male  26.0\n",
              "890    male  32.0\n",
              "\n",
              "[891 rows x 2 columns]"
            ],
            "text/html": [
              "\n",
              "  <div id=\"df-1cf98d1c-27dc-41e8-a2ba-89c6a4c56507\">\n",
              "    <div class=\"colab-df-container\">\n",
              "      <div>\n",
              "<style scoped>\n",
              "    .dataframe tbody tr th:only-of-type {\n",
              "        vertical-align: middle;\n",
              "    }\n",
              "\n",
              "    .dataframe tbody tr th {\n",
              "        vertical-align: top;\n",
              "    }\n",
              "\n",
              "    .dataframe thead th {\n",
              "        text-align: right;\n",
              "    }\n",
              "</style>\n",
              "<table border=\"1\" class=\"dataframe\">\n",
              "  <thead>\n",
              "    <tr style=\"text-align: right;\">\n",
              "      <th></th>\n",
              "      <th>Sex</th>\n",
              "      <th>Age</th>\n",
              "    </tr>\n",
              "  </thead>\n",
              "  <tbody>\n",
              "    <tr>\n",
              "      <th>0</th>\n",
              "      <td>male</td>\n",
              "      <td>22.0</td>\n",
              "    </tr>\n",
              "    <tr>\n",
              "      <th>1</th>\n",
              "      <td>female</td>\n",
              "      <td>38.0</td>\n",
              "    </tr>\n",
              "    <tr>\n",
              "      <th>2</th>\n",
              "      <td>female</td>\n",
              "      <td>26.0</td>\n",
              "    </tr>\n",
              "    <tr>\n",
              "      <th>3</th>\n",
              "      <td>female</td>\n",
              "      <td>35.0</td>\n",
              "    </tr>\n",
              "    <tr>\n",
              "      <th>4</th>\n",
              "      <td>male</td>\n",
              "      <td>35.0</td>\n",
              "    </tr>\n",
              "    <tr>\n",
              "      <th>...</th>\n",
              "      <td>...</td>\n",
              "      <td>...</td>\n",
              "    </tr>\n",
              "    <tr>\n",
              "      <th>886</th>\n",
              "      <td>male</td>\n",
              "      <td>27.0</td>\n",
              "    </tr>\n",
              "    <tr>\n",
              "      <th>887</th>\n",
              "      <td>female</td>\n",
              "      <td>19.0</td>\n",
              "    </tr>\n",
              "    <tr>\n",
              "      <th>888</th>\n",
              "      <td>female</td>\n",
              "      <td>NaN</td>\n",
              "    </tr>\n",
              "    <tr>\n",
              "      <th>889</th>\n",
              "      <td>male</td>\n",
              "      <td>26.0</td>\n",
              "    </tr>\n",
              "    <tr>\n",
              "      <th>890</th>\n",
              "      <td>male</td>\n",
              "      <td>32.0</td>\n",
              "    </tr>\n",
              "  </tbody>\n",
              "</table>\n",
              "<p>891 rows × 2 columns</p>\n",
              "</div>\n",
              "      <button class=\"colab-df-convert\" onclick=\"convertToInteractive('df-1cf98d1c-27dc-41e8-a2ba-89c6a4c56507')\"\n",
              "              title=\"Convert this dataframe to an interactive table.\"\n",
              "              style=\"display:none;\">\n",
              "        \n",
              "  <svg xmlns=\"http://www.w3.org/2000/svg\" height=\"24px\"viewBox=\"0 0 24 24\"\n",
              "       width=\"24px\">\n",
              "    <path d=\"M0 0h24v24H0V0z\" fill=\"none\"/>\n",
              "    <path d=\"M18.56 5.44l.94 2.06.94-2.06 2.06-.94-2.06-.94-.94-2.06-.94 2.06-2.06.94zm-11 1L8.5 8.5l.94-2.06 2.06-.94-2.06-.94L8.5 2.5l-.94 2.06-2.06.94zm10 10l.94 2.06.94-2.06 2.06-.94-2.06-.94-.94-2.06-.94 2.06-2.06.94z\"/><path d=\"M17.41 7.96l-1.37-1.37c-.4-.4-.92-.59-1.43-.59-.52 0-1.04.2-1.43.59L10.3 9.45l-7.72 7.72c-.78.78-.78 2.05 0 2.83L4 21.41c.39.39.9.59 1.41.59.51 0 1.02-.2 1.41-.59l7.78-7.78 2.81-2.81c.8-.78.8-2.07 0-2.86zM5.41 20L4 18.59l7.72-7.72 1.47 1.35L5.41 20z\"/>\n",
              "  </svg>\n",
              "      </button>\n",
              "      \n",
              "  <style>\n",
              "    .colab-df-container {\n",
              "      display:flex;\n",
              "      flex-wrap:wrap;\n",
              "      gap: 12px;\n",
              "    }\n",
              "\n",
              "    .colab-df-convert {\n",
              "      background-color: #E8F0FE;\n",
              "      border: none;\n",
              "      border-radius: 50%;\n",
              "      cursor: pointer;\n",
              "      display: none;\n",
              "      fill: #1967D2;\n",
              "      height: 32px;\n",
              "      padding: 0 0 0 0;\n",
              "      width: 32px;\n",
              "    }\n",
              "\n",
              "    .colab-df-convert:hover {\n",
              "      background-color: #E2EBFA;\n",
              "      box-shadow: 0px 1px 2px rgba(60, 64, 67, 0.3), 0px 1px 3px 1px rgba(60, 64, 67, 0.15);\n",
              "      fill: #174EA6;\n",
              "    }\n",
              "\n",
              "    [theme=dark] .colab-df-convert {\n",
              "      background-color: #3B4455;\n",
              "      fill: #D2E3FC;\n",
              "    }\n",
              "\n",
              "    [theme=dark] .colab-df-convert:hover {\n",
              "      background-color: #434B5C;\n",
              "      box-shadow: 0px 1px 3px 1px rgba(0, 0, 0, 0.15);\n",
              "      filter: drop-shadow(0px 1px 2px rgba(0, 0, 0, 0.3));\n",
              "      fill: #FFFFFF;\n",
              "    }\n",
              "  </style>\n",
              "\n",
              "      <script>\n",
              "        const buttonEl =\n",
              "          document.querySelector('#df-1cf98d1c-27dc-41e8-a2ba-89c6a4c56507 button.colab-df-convert');\n",
              "        buttonEl.style.display =\n",
              "          google.colab.kernel.accessAllowed ? 'block' : 'none';\n",
              "\n",
              "        async function convertToInteractive(key) {\n",
              "          const element = document.querySelector('#df-1cf98d1c-27dc-41e8-a2ba-89c6a4c56507');\n",
              "          const dataTable =\n",
              "            await google.colab.kernel.invokeFunction('convertToInteractive',\n",
              "                                                     [key], {});\n",
              "          if (!dataTable) return;\n",
              "\n",
              "          const docLinkHtml = 'Like what you see? Visit the ' +\n",
              "            '<a target=\"_blank\" href=https://colab.research.google.com/notebooks/data_table.ipynb>data table notebook</a>'\n",
              "            + ' to learn more about interactive tables.';\n",
              "          element.innerHTML = '';\n",
              "          dataTable['output_type'] = 'display_data';\n",
              "          await google.colab.output.renderOutput(dataTable, element);\n",
              "          const docLink = document.createElement('div');\n",
              "          docLink.innerHTML = docLinkHtml;\n",
              "          element.appendChild(docLink);\n",
              "        }\n",
              "      </script>\n",
              "    </div>\n",
              "  </div>\n",
              "  "
            ]
          },
          "metadata": {},
          "execution_count": 9
        }
      ]
    },
    {
      "cell_type": "markdown",
      "source": [
        "There are several ways of selecting rows in a DataFrame, including selecting by row number using the square bracket notation or the `.iloc` method, or selecting by row name using the `.loc` method."
      ],
      "metadata": {
        "id": "wbLkdGEWw8m5"
      }
    },
    {
      "cell_type": "code",
      "source": [
        "#Selecting rows by row number\n",
        "titanic[4:9]"
      ],
      "metadata": {
        "colab": {
          "base_uri": "https://localhost:8080/",
          "height": 206
        },
        "id": "RXDTuAFxw93R",
        "outputId": "21704e81-8d20-452a-930b-2d92131f2e3b"
      },
      "execution_count": null,
      "outputs": [
        {
          "output_type": "execute_result",
          "data": {
            "text/plain": [
              "   PassengerId  Survived  Pclass  \\\n",
              "4            5         0       3   \n",
              "5            6         0       3   \n",
              "6            7         0       1   \n",
              "7            8         0       3   \n",
              "8            9         1       3   \n",
              "\n",
              "                                                Name     Sex   Age  SibSp  \\\n",
              "4                           Allen, Mr. William Henry    male  35.0      0   \n",
              "5                                   Moran, Mr. James    male   NaN      0   \n",
              "6                            McCarthy, Mr. Timothy J    male  54.0      0   \n",
              "7                     Palsson, Master. Gosta Leonard    male   2.0      3   \n",
              "8  Johnson, Mrs. Oscar W (Elisabeth Vilhelmina Berg)  female  27.0      0   \n",
              "\n",
              "   Parch  Ticket     Fare Cabin Embarked  \n",
              "4      0  373450   8.0500   NaN        S  \n",
              "5      0  330877   8.4583   NaN        Q  \n",
              "6      0   17463  51.8625   E46        S  \n",
              "7      1  349909  21.0750   NaN        S  \n",
              "8      2  347742  11.1333   NaN        S  "
            ],
            "text/html": [
              "\n",
              "  <div id=\"df-26c0ba17-a9f2-4a52-8eb1-3ed69bae816c\">\n",
              "    <div class=\"colab-df-container\">\n",
              "      <div>\n",
              "<style scoped>\n",
              "    .dataframe tbody tr th:only-of-type {\n",
              "        vertical-align: middle;\n",
              "    }\n",
              "\n",
              "    .dataframe tbody tr th {\n",
              "        vertical-align: top;\n",
              "    }\n",
              "\n",
              "    .dataframe thead th {\n",
              "        text-align: right;\n",
              "    }\n",
              "</style>\n",
              "<table border=\"1\" class=\"dataframe\">\n",
              "  <thead>\n",
              "    <tr style=\"text-align: right;\">\n",
              "      <th></th>\n",
              "      <th>PassengerId</th>\n",
              "      <th>Survived</th>\n",
              "      <th>Pclass</th>\n",
              "      <th>Name</th>\n",
              "      <th>Sex</th>\n",
              "      <th>Age</th>\n",
              "      <th>SibSp</th>\n",
              "      <th>Parch</th>\n",
              "      <th>Ticket</th>\n",
              "      <th>Fare</th>\n",
              "      <th>Cabin</th>\n",
              "      <th>Embarked</th>\n",
              "    </tr>\n",
              "  </thead>\n",
              "  <tbody>\n",
              "    <tr>\n",
              "      <th>4</th>\n",
              "      <td>5</td>\n",
              "      <td>0</td>\n",
              "      <td>3</td>\n",
              "      <td>Allen, Mr. William Henry</td>\n",
              "      <td>male</td>\n",
              "      <td>35.0</td>\n",
              "      <td>0</td>\n",
              "      <td>0</td>\n",
              "      <td>373450</td>\n",
              "      <td>8.0500</td>\n",
              "      <td>NaN</td>\n",
              "      <td>S</td>\n",
              "    </tr>\n",
              "    <tr>\n",
              "      <th>5</th>\n",
              "      <td>6</td>\n",
              "      <td>0</td>\n",
              "      <td>3</td>\n",
              "      <td>Moran, Mr. James</td>\n",
              "      <td>male</td>\n",
              "      <td>NaN</td>\n",
              "      <td>0</td>\n",
              "      <td>0</td>\n",
              "      <td>330877</td>\n",
              "      <td>8.4583</td>\n",
              "      <td>NaN</td>\n",
              "      <td>Q</td>\n",
              "    </tr>\n",
              "    <tr>\n",
              "      <th>6</th>\n",
              "      <td>7</td>\n",
              "      <td>0</td>\n",
              "      <td>1</td>\n",
              "      <td>McCarthy, Mr. Timothy J</td>\n",
              "      <td>male</td>\n",
              "      <td>54.0</td>\n",
              "      <td>0</td>\n",
              "      <td>0</td>\n",
              "      <td>17463</td>\n",
              "      <td>51.8625</td>\n",
              "      <td>E46</td>\n",
              "      <td>S</td>\n",
              "    </tr>\n",
              "    <tr>\n",
              "      <th>7</th>\n",
              "      <td>8</td>\n",
              "      <td>0</td>\n",
              "      <td>3</td>\n",
              "      <td>Palsson, Master. Gosta Leonard</td>\n",
              "      <td>male</td>\n",
              "      <td>2.0</td>\n",
              "      <td>3</td>\n",
              "      <td>1</td>\n",
              "      <td>349909</td>\n",
              "      <td>21.0750</td>\n",
              "      <td>NaN</td>\n",
              "      <td>S</td>\n",
              "    </tr>\n",
              "    <tr>\n",
              "      <th>8</th>\n",
              "      <td>9</td>\n",
              "      <td>1</td>\n",
              "      <td>3</td>\n",
              "      <td>Johnson, Mrs. Oscar W (Elisabeth Vilhelmina Berg)</td>\n",
              "      <td>female</td>\n",
              "      <td>27.0</td>\n",
              "      <td>0</td>\n",
              "      <td>2</td>\n",
              "      <td>347742</td>\n",
              "      <td>11.1333</td>\n",
              "      <td>NaN</td>\n",
              "      <td>S</td>\n",
              "    </tr>\n",
              "  </tbody>\n",
              "</table>\n",
              "</div>\n",
              "      <button class=\"colab-df-convert\" onclick=\"convertToInteractive('df-26c0ba17-a9f2-4a52-8eb1-3ed69bae816c')\"\n",
              "              title=\"Convert this dataframe to an interactive table.\"\n",
              "              style=\"display:none;\">\n",
              "        \n",
              "  <svg xmlns=\"http://www.w3.org/2000/svg\" height=\"24px\"viewBox=\"0 0 24 24\"\n",
              "       width=\"24px\">\n",
              "    <path d=\"M0 0h24v24H0V0z\" fill=\"none\"/>\n",
              "    <path d=\"M18.56 5.44l.94 2.06.94-2.06 2.06-.94-2.06-.94-.94-2.06-.94 2.06-2.06.94zm-11 1L8.5 8.5l.94-2.06 2.06-.94-2.06-.94L8.5 2.5l-.94 2.06-2.06.94zm10 10l.94 2.06.94-2.06 2.06-.94-2.06-.94-.94-2.06-.94 2.06-2.06.94z\"/><path d=\"M17.41 7.96l-1.37-1.37c-.4-.4-.92-.59-1.43-.59-.52 0-1.04.2-1.43.59L10.3 9.45l-7.72 7.72c-.78.78-.78 2.05 0 2.83L4 21.41c.39.39.9.59 1.41.59.51 0 1.02-.2 1.41-.59l7.78-7.78 2.81-2.81c.8-.78.8-2.07 0-2.86zM5.41 20L4 18.59l7.72-7.72 1.47 1.35L5.41 20z\"/>\n",
              "  </svg>\n",
              "      </button>\n",
              "      \n",
              "  <style>\n",
              "    .colab-df-container {\n",
              "      display:flex;\n",
              "      flex-wrap:wrap;\n",
              "      gap: 12px;\n",
              "    }\n",
              "\n",
              "    .colab-df-convert {\n",
              "      background-color: #E8F0FE;\n",
              "      border: none;\n",
              "      border-radius: 50%;\n",
              "      cursor: pointer;\n",
              "      display: none;\n",
              "      fill: #1967D2;\n",
              "      height: 32px;\n",
              "      padding: 0 0 0 0;\n",
              "      width: 32px;\n",
              "    }\n",
              "\n",
              "    .colab-df-convert:hover {\n",
              "      background-color: #E2EBFA;\n",
              "      box-shadow: 0px 1px 2px rgba(60, 64, 67, 0.3), 0px 1px 3px 1px rgba(60, 64, 67, 0.15);\n",
              "      fill: #174EA6;\n",
              "    }\n",
              "\n",
              "    [theme=dark] .colab-df-convert {\n",
              "      background-color: #3B4455;\n",
              "      fill: #D2E3FC;\n",
              "    }\n",
              "\n",
              "    [theme=dark] .colab-df-convert:hover {\n",
              "      background-color: #434B5C;\n",
              "      box-shadow: 0px 1px 3px 1px rgba(0, 0, 0, 0.15);\n",
              "      filter: drop-shadow(0px 1px 2px rgba(0, 0, 0, 0.3));\n",
              "      fill: #FFFFFF;\n",
              "    }\n",
              "  </style>\n",
              "\n",
              "      <script>\n",
              "        const buttonEl =\n",
              "          document.querySelector('#df-26c0ba17-a9f2-4a52-8eb1-3ed69bae816c button.colab-df-convert');\n",
              "        buttonEl.style.display =\n",
              "          google.colab.kernel.accessAllowed ? 'block' : 'none';\n",
              "\n",
              "        async function convertToInteractive(key) {\n",
              "          const element = document.querySelector('#df-26c0ba17-a9f2-4a52-8eb1-3ed69bae816c');\n",
              "          const dataTable =\n",
              "            await google.colab.kernel.invokeFunction('convertToInteractive',\n",
              "                                                     [key], {});\n",
              "          if (!dataTable) return;\n",
              "\n",
              "          const docLinkHtml = 'Like what you see? Visit the ' +\n",
              "            '<a target=\"_blank\" href=https://colab.research.google.com/notebooks/data_table.ipynb>data table notebook</a>'\n",
              "            + ' to learn more about interactive tables.';\n",
              "          element.innerHTML = '';\n",
              "          dataTable['output_type'] = 'display_data';\n",
              "          await google.colab.output.renderOutput(dataTable, element);\n",
              "          const docLink = document.createElement('div');\n",
              "          docLink.innerHTML = docLinkHtml;\n",
              "          element.appendChild(docLink);\n",
              "        }\n",
              "      </script>\n",
              "    </div>\n",
              "  </div>\n",
              "  "
            ]
          },
          "metadata": {},
          "execution_count": 10
        }
      ]
    },
    {
      "cell_type": "code",
      "source": [
        "# Selecting rows using .iloc\n",
        "titanic.iloc[4:9]"
      ],
      "metadata": {
        "colab": {
          "base_uri": "https://localhost:8080/",
          "height": 206
        },
        "id": "QpS0Jcl50DDC",
        "outputId": "2af44e97-bc24-43a9-ea1d-e550d6389b04"
      },
      "execution_count": null,
      "outputs": [
        {
          "output_type": "execute_result",
          "data": {
            "text/plain": [
              "   PassengerId  Survived  Pclass  \\\n",
              "4            5         0       3   \n",
              "5            6         0       3   \n",
              "6            7         0       1   \n",
              "7            8         0       3   \n",
              "8            9         1       3   \n",
              "\n",
              "                                                Name     Sex   Age  SibSp  \\\n",
              "4                           Allen, Mr. William Henry    male  35.0      0   \n",
              "5                                   Moran, Mr. James    male   NaN      0   \n",
              "6                            McCarthy, Mr. Timothy J    male  54.0      0   \n",
              "7                     Palsson, Master. Gosta Leonard    male   2.0      3   \n",
              "8  Johnson, Mrs. Oscar W (Elisabeth Vilhelmina Berg)  female  27.0      0   \n",
              "\n",
              "   Parch  Ticket     Fare Cabin Embarked  \n",
              "4      0  373450   8.0500   NaN        S  \n",
              "5      0  330877   8.4583   NaN        Q  \n",
              "6      0   17463  51.8625   E46        S  \n",
              "7      1  349909  21.0750   NaN        S  \n",
              "8      2  347742  11.1333   NaN        S  "
            ],
            "text/html": [
              "\n",
              "  <div id=\"df-dc152e32-c9cf-4598-be5e-41c4ee8f102b\">\n",
              "    <div class=\"colab-df-container\">\n",
              "      <div>\n",
              "<style scoped>\n",
              "    .dataframe tbody tr th:only-of-type {\n",
              "        vertical-align: middle;\n",
              "    }\n",
              "\n",
              "    .dataframe tbody tr th {\n",
              "        vertical-align: top;\n",
              "    }\n",
              "\n",
              "    .dataframe thead th {\n",
              "        text-align: right;\n",
              "    }\n",
              "</style>\n",
              "<table border=\"1\" class=\"dataframe\">\n",
              "  <thead>\n",
              "    <tr style=\"text-align: right;\">\n",
              "      <th></th>\n",
              "      <th>PassengerId</th>\n",
              "      <th>Survived</th>\n",
              "      <th>Pclass</th>\n",
              "      <th>Name</th>\n",
              "      <th>Sex</th>\n",
              "      <th>Age</th>\n",
              "      <th>SibSp</th>\n",
              "      <th>Parch</th>\n",
              "      <th>Ticket</th>\n",
              "      <th>Fare</th>\n",
              "      <th>Cabin</th>\n",
              "      <th>Embarked</th>\n",
              "    </tr>\n",
              "  </thead>\n",
              "  <tbody>\n",
              "    <tr>\n",
              "      <th>4</th>\n",
              "      <td>5</td>\n",
              "      <td>0</td>\n",
              "      <td>3</td>\n",
              "      <td>Allen, Mr. William Henry</td>\n",
              "      <td>male</td>\n",
              "      <td>35.0</td>\n",
              "      <td>0</td>\n",
              "      <td>0</td>\n",
              "      <td>373450</td>\n",
              "      <td>8.0500</td>\n",
              "      <td>NaN</td>\n",
              "      <td>S</td>\n",
              "    </tr>\n",
              "    <tr>\n",
              "      <th>5</th>\n",
              "      <td>6</td>\n",
              "      <td>0</td>\n",
              "      <td>3</td>\n",
              "      <td>Moran, Mr. James</td>\n",
              "      <td>male</td>\n",
              "      <td>NaN</td>\n",
              "      <td>0</td>\n",
              "      <td>0</td>\n",
              "      <td>330877</td>\n",
              "      <td>8.4583</td>\n",
              "      <td>NaN</td>\n",
              "      <td>Q</td>\n",
              "    </tr>\n",
              "    <tr>\n",
              "      <th>6</th>\n",
              "      <td>7</td>\n",
              "      <td>0</td>\n",
              "      <td>1</td>\n",
              "      <td>McCarthy, Mr. Timothy J</td>\n",
              "      <td>male</td>\n",
              "      <td>54.0</td>\n",
              "      <td>0</td>\n",
              "      <td>0</td>\n",
              "      <td>17463</td>\n",
              "      <td>51.8625</td>\n",
              "      <td>E46</td>\n",
              "      <td>S</td>\n",
              "    </tr>\n",
              "    <tr>\n",
              "      <th>7</th>\n",
              "      <td>8</td>\n",
              "      <td>0</td>\n",
              "      <td>3</td>\n",
              "      <td>Palsson, Master. Gosta Leonard</td>\n",
              "      <td>male</td>\n",
              "      <td>2.0</td>\n",
              "      <td>3</td>\n",
              "      <td>1</td>\n",
              "      <td>349909</td>\n",
              "      <td>21.0750</td>\n",
              "      <td>NaN</td>\n",
              "      <td>S</td>\n",
              "    </tr>\n",
              "    <tr>\n",
              "      <th>8</th>\n",
              "      <td>9</td>\n",
              "      <td>1</td>\n",
              "      <td>3</td>\n",
              "      <td>Johnson, Mrs. Oscar W (Elisabeth Vilhelmina Berg)</td>\n",
              "      <td>female</td>\n",
              "      <td>27.0</td>\n",
              "      <td>0</td>\n",
              "      <td>2</td>\n",
              "      <td>347742</td>\n",
              "      <td>11.1333</td>\n",
              "      <td>NaN</td>\n",
              "      <td>S</td>\n",
              "    </tr>\n",
              "  </tbody>\n",
              "</table>\n",
              "</div>\n",
              "      <button class=\"colab-df-convert\" onclick=\"convertToInteractive('df-dc152e32-c9cf-4598-be5e-41c4ee8f102b')\"\n",
              "              title=\"Convert this dataframe to an interactive table.\"\n",
              "              style=\"display:none;\">\n",
              "        \n",
              "  <svg xmlns=\"http://www.w3.org/2000/svg\" height=\"24px\"viewBox=\"0 0 24 24\"\n",
              "       width=\"24px\">\n",
              "    <path d=\"M0 0h24v24H0V0z\" fill=\"none\"/>\n",
              "    <path d=\"M18.56 5.44l.94 2.06.94-2.06 2.06-.94-2.06-.94-.94-2.06-.94 2.06-2.06.94zm-11 1L8.5 8.5l.94-2.06 2.06-.94-2.06-.94L8.5 2.5l-.94 2.06-2.06.94zm10 10l.94 2.06.94-2.06 2.06-.94-2.06-.94-.94-2.06-.94 2.06-2.06.94z\"/><path d=\"M17.41 7.96l-1.37-1.37c-.4-.4-.92-.59-1.43-.59-.52 0-1.04.2-1.43.59L10.3 9.45l-7.72 7.72c-.78.78-.78 2.05 0 2.83L4 21.41c.39.39.9.59 1.41.59.51 0 1.02-.2 1.41-.59l7.78-7.78 2.81-2.81c.8-.78.8-2.07 0-2.86zM5.41 20L4 18.59l7.72-7.72 1.47 1.35L5.41 20z\"/>\n",
              "  </svg>\n",
              "      </button>\n",
              "      \n",
              "  <style>\n",
              "    .colab-df-container {\n",
              "      display:flex;\n",
              "      flex-wrap:wrap;\n",
              "      gap: 12px;\n",
              "    }\n",
              "\n",
              "    .colab-df-convert {\n",
              "      background-color: #E8F0FE;\n",
              "      border: none;\n",
              "      border-radius: 50%;\n",
              "      cursor: pointer;\n",
              "      display: none;\n",
              "      fill: #1967D2;\n",
              "      height: 32px;\n",
              "      padding: 0 0 0 0;\n",
              "      width: 32px;\n",
              "    }\n",
              "\n",
              "    .colab-df-convert:hover {\n",
              "      background-color: #E2EBFA;\n",
              "      box-shadow: 0px 1px 2px rgba(60, 64, 67, 0.3), 0px 1px 3px 1px rgba(60, 64, 67, 0.15);\n",
              "      fill: #174EA6;\n",
              "    }\n",
              "\n",
              "    [theme=dark] .colab-df-convert {\n",
              "      background-color: #3B4455;\n",
              "      fill: #D2E3FC;\n",
              "    }\n",
              "\n",
              "    [theme=dark] .colab-df-convert:hover {\n",
              "      background-color: #434B5C;\n",
              "      box-shadow: 0px 1px 3px 1px rgba(0, 0, 0, 0.15);\n",
              "      filter: drop-shadow(0px 1px 2px rgba(0, 0, 0, 0.3));\n",
              "      fill: #FFFFFF;\n",
              "    }\n",
              "  </style>\n",
              "\n",
              "      <script>\n",
              "        const buttonEl =\n",
              "          document.querySelector('#df-dc152e32-c9cf-4598-be5e-41c4ee8f102b button.colab-df-convert');\n",
              "        buttonEl.style.display =\n",
              "          google.colab.kernel.accessAllowed ? 'block' : 'none';\n",
              "\n",
              "        async function convertToInteractive(key) {\n",
              "          const element = document.querySelector('#df-dc152e32-c9cf-4598-be5e-41c4ee8f102b');\n",
              "          const dataTable =\n",
              "            await google.colab.kernel.invokeFunction('convertToInteractive',\n",
              "                                                     [key], {});\n",
              "          if (!dataTable) return;\n",
              "\n",
              "          const docLinkHtml = 'Like what you see? Visit the ' +\n",
              "            '<a target=\"_blank\" href=https://colab.research.google.com/notebooks/data_table.ipynb>data table notebook</a>'\n",
              "            + ' to learn more about interactive tables.';\n",
              "          element.innerHTML = '';\n",
              "          dataTable['output_type'] = 'display_data';\n",
              "          await google.colab.output.renderOutput(dataTable, element);\n",
              "          const docLink = document.createElement('div');\n",
              "          docLink.innerHTML = docLinkHtml;\n",
              "          element.appendChild(docLink);\n",
              "        }\n",
              "      </script>\n",
              "    </div>\n",
              "  </div>\n",
              "  "
            ]
          },
          "metadata": {},
          "execution_count": 19
        }
      ]
    },
    {
      "cell_type": "code",
      "source": [
        "titanic.set_index(\"Name\", inplace=True) #sets the \"Name\" column as the index\n",
        "# By setting inplace = True, we modify the existing DataFrame rather than creating a new one.\n",
        "# In other words, we do not need to assign it back to the titanic variable."
      ],
      "metadata": {
        "id": "lMdxkxO50aLk"
      },
      "execution_count": null,
      "outputs": []
    },
    {
      "cell_type": "code",
      "source": [
        "# Selecting rows using .loc\n",
        "titanic.loc[[\"Allen, Mr. William Henry\", \"Moran, Mr. James\"]]"
      ],
      "metadata": {
        "colab": {
          "base_uri": "https://localhost:8080/",
          "height": 143
        },
        "id": "Fo2A0oEB0wrC",
        "outputId": "ad2f4507-f293-4815-8d54-3c7f986c5ef4"
      },
      "execution_count": null,
      "outputs": [
        {
          "output_type": "execute_result",
          "data": {
            "text/plain": [
              "                          PassengerId  Survived  Pclass   Sex   Age  SibSp  \\\n",
              "Name                                                                         \n",
              "Allen, Mr. William Henry            5         0       3  male  35.0      0   \n",
              "Moran, Mr. James                    6         0       3  male   NaN      0   \n",
              "\n",
              "                          Parch  Ticket    Fare Cabin Embarked  \n",
              "Name                                                            \n",
              "Allen, Mr. William Henry      0  373450  8.0500   NaN        S  \n",
              "Moran, Mr. James              0  330877  8.4583   NaN        Q  "
            ],
            "text/html": [
              "\n",
              "  <div id=\"df-464722b0-5cd5-4da8-b567-48430ce43341\">\n",
              "    <div class=\"colab-df-container\">\n",
              "      <div>\n",
              "<style scoped>\n",
              "    .dataframe tbody tr th:only-of-type {\n",
              "        vertical-align: middle;\n",
              "    }\n",
              "\n",
              "    .dataframe tbody tr th {\n",
              "        vertical-align: top;\n",
              "    }\n",
              "\n",
              "    .dataframe thead th {\n",
              "        text-align: right;\n",
              "    }\n",
              "</style>\n",
              "<table border=\"1\" class=\"dataframe\">\n",
              "  <thead>\n",
              "    <tr style=\"text-align: right;\">\n",
              "      <th></th>\n",
              "      <th>PassengerId</th>\n",
              "      <th>Survived</th>\n",
              "      <th>Pclass</th>\n",
              "      <th>Sex</th>\n",
              "      <th>Age</th>\n",
              "      <th>SibSp</th>\n",
              "      <th>Parch</th>\n",
              "      <th>Ticket</th>\n",
              "      <th>Fare</th>\n",
              "      <th>Cabin</th>\n",
              "      <th>Embarked</th>\n",
              "    </tr>\n",
              "    <tr>\n",
              "      <th>Name</th>\n",
              "      <th></th>\n",
              "      <th></th>\n",
              "      <th></th>\n",
              "      <th></th>\n",
              "      <th></th>\n",
              "      <th></th>\n",
              "      <th></th>\n",
              "      <th></th>\n",
              "      <th></th>\n",
              "      <th></th>\n",
              "      <th></th>\n",
              "    </tr>\n",
              "  </thead>\n",
              "  <tbody>\n",
              "    <tr>\n",
              "      <th>Allen, Mr. William Henry</th>\n",
              "      <td>5</td>\n",
              "      <td>0</td>\n",
              "      <td>3</td>\n",
              "      <td>male</td>\n",
              "      <td>35.0</td>\n",
              "      <td>0</td>\n",
              "      <td>0</td>\n",
              "      <td>373450</td>\n",
              "      <td>8.0500</td>\n",
              "      <td>NaN</td>\n",
              "      <td>S</td>\n",
              "    </tr>\n",
              "    <tr>\n",
              "      <th>Moran, Mr. James</th>\n",
              "      <td>6</td>\n",
              "      <td>0</td>\n",
              "      <td>3</td>\n",
              "      <td>male</td>\n",
              "      <td>NaN</td>\n",
              "      <td>0</td>\n",
              "      <td>0</td>\n",
              "      <td>330877</td>\n",
              "      <td>8.4583</td>\n",
              "      <td>NaN</td>\n",
              "      <td>Q</td>\n",
              "    </tr>\n",
              "  </tbody>\n",
              "</table>\n",
              "</div>\n",
              "      <button class=\"colab-df-convert\" onclick=\"convertToInteractive('df-464722b0-5cd5-4da8-b567-48430ce43341')\"\n",
              "              title=\"Convert this dataframe to an interactive table.\"\n",
              "              style=\"display:none;\">\n",
              "        \n",
              "  <svg xmlns=\"http://www.w3.org/2000/svg\" height=\"24px\"viewBox=\"0 0 24 24\"\n",
              "       width=\"24px\">\n",
              "    <path d=\"M0 0h24v24H0V0z\" fill=\"none\"/>\n",
              "    <path d=\"M18.56 5.44l.94 2.06.94-2.06 2.06-.94-2.06-.94-.94-2.06-.94 2.06-2.06.94zm-11 1L8.5 8.5l.94-2.06 2.06-.94-2.06-.94L8.5 2.5l-.94 2.06-2.06.94zm10 10l.94 2.06.94-2.06 2.06-.94-2.06-.94-.94-2.06-.94 2.06-2.06.94z\"/><path d=\"M17.41 7.96l-1.37-1.37c-.4-.4-.92-.59-1.43-.59-.52 0-1.04.2-1.43.59L10.3 9.45l-7.72 7.72c-.78.78-.78 2.05 0 2.83L4 21.41c.39.39.9.59 1.41.59.51 0 1.02-.2 1.41-.59l7.78-7.78 2.81-2.81c.8-.78.8-2.07 0-2.86zM5.41 20L4 18.59l7.72-7.72 1.47 1.35L5.41 20z\"/>\n",
              "  </svg>\n",
              "      </button>\n",
              "      \n",
              "  <style>\n",
              "    .colab-df-container {\n",
              "      display:flex;\n",
              "      flex-wrap:wrap;\n",
              "      gap: 12px;\n",
              "    }\n",
              "\n",
              "    .colab-df-convert {\n",
              "      background-color: #E8F0FE;\n",
              "      border: none;\n",
              "      border-radius: 50%;\n",
              "      cursor: pointer;\n",
              "      display: none;\n",
              "      fill: #1967D2;\n",
              "      height: 32px;\n",
              "      padding: 0 0 0 0;\n",
              "      width: 32px;\n",
              "    }\n",
              "\n",
              "    .colab-df-convert:hover {\n",
              "      background-color: #E2EBFA;\n",
              "      box-shadow: 0px 1px 2px rgba(60, 64, 67, 0.3), 0px 1px 3px 1px rgba(60, 64, 67, 0.15);\n",
              "      fill: #174EA6;\n",
              "    }\n",
              "\n",
              "    [theme=dark] .colab-df-convert {\n",
              "      background-color: #3B4455;\n",
              "      fill: #D2E3FC;\n",
              "    }\n",
              "\n",
              "    [theme=dark] .colab-df-convert:hover {\n",
              "      background-color: #434B5C;\n",
              "      box-shadow: 0px 1px 3px 1px rgba(0, 0, 0, 0.15);\n",
              "      filter: drop-shadow(0px 1px 2px rgba(0, 0, 0, 0.3));\n",
              "      fill: #FFFFFF;\n",
              "    }\n",
              "  </style>\n",
              "\n",
              "      <script>\n",
              "        const buttonEl =\n",
              "          document.querySelector('#df-464722b0-5cd5-4da8-b567-48430ce43341 button.colab-df-convert');\n",
              "        buttonEl.style.display =\n",
              "          google.colab.kernel.accessAllowed ? 'block' : 'none';\n",
              "\n",
              "        async function convertToInteractive(key) {\n",
              "          const element = document.querySelector('#df-464722b0-5cd5-4da8-b567-48430ce43341');\n",
              "          const dataTable =\n",
              "            await google.colab.kernel.invokeFunction('convertToInteractive',\n",
              "                                                     [key], {});\n",
              "          if (!dataTable) return;\n",
              "\n",
              "          const docLinkHtml = 'Like what you see? Visit the ' +\n",
              "            '<a target=\"_blank\" href=https://colab.research.google.com/notebooks/data_table.ipynb>data table notebook</a>'\n",
              "            + ' to learn more about interactive tables.';\n",
              "          element.innerHTML = '';\n",
              "          dataTable['output_type'] = 'display_data';\n",
              "          await google.colab.output.renderOutput(dataTable, element);\n",
              "          const docLink = document.createElement('div');\n",
              "          docLink.innerHTML = docLinkHtml;\n",
              "          element.appendChild(docLink);\n",
              "        }\n",
              "      </script>\n",
              "    </div>\n",
              "  </div>\n",
              "  "
            ]
          },
          "metadata": {},
          "execution_count": 21
        }
      ]
    },
    {
      "cell_type": "markdown",
      "source": [
        "When selecting both rows and columns, using `.loc` or `.iloc` is necessary:"
      ],
      "metadata": {
        "id": "DQLwEOmvxh-I"
      }
    },
    {
      "cell_type": "code",
      "source": [
        "titanic.iloc[4:9, [0, 3]] # Selecting rows 4 to 8, and columns 0 and 3"
      ],
      "metadata": {
        "colab": {
          "base_uri": "https://localhost:8080/",
          "height": 238
        },
        "id": "Su0qTrQDxyoN",
        "outputId": "c2d93a4e-faf9-4f42-db4a-952c832c06e2"
      },
      "execution_count": null,
      "outputs": [
        {
          "output_type": "execute_result",
          "data": {
            "text/plain": [
              "                                                   PassengerId     Sex\n",
              "Name                                                                  \n",
              "Allen, Mr. William Henry                                     5    male\n",
              "Moran, Mr. James                                             6    male\n",
              "McCarthy, Mr. Timothy J                                      7    male\n",
              "Palsson, Master. Gosta Leonard                               8    male\n",
              "Johnson, Mrs. Oscar W (Elisabeth Vilhelmina Berg)            9  female"
            ],
            "text/html": [
              "\n",
              "  <div id=\"df-e5341b51-414c-4f12-9dc0-0c098f87aefb\">\n",
              "    <div class=\"colab-df-container\">\n",
              "      <div>\n",
              "<style scoped>\n",
              "    .dataframe tbody tr th:only-of-type {\n",
              "        vertical-align: middle;\n",
              "    }\n",
              "\n",
              "    .dataframe tbody tr th {\n",
              "        vertical-align: top;\n",
              "    }\n",
              "\n",
              "    .dataframe thead th {\n",
              "        text-align: right;\n",
              "    }\n",
              "</style>\n",
              "<table border=\"1\" class=\"dataframe\">\n",
              "  <thead>\n",
              "    <tr style=\"text-align: right;\">\n",
              "      <th></th>\n",
              "      <th>PassengerId</th>\n",
              "      <th>Sex</th>\n",
              "    </tr>\n",
              "    <tr>\n",
              "      <th>Name</th>\n",
              "      <th></th>\n",
              "      <th></th>\n",
              "    </tr>\n",
              "  </thead>\n",
              "  <tbody>\n",
              "    <tr>\n",
              "      <th>Allen, Mr. William Henry</th>\n",
              "      <td>5</td>\n",
              "      <td>male</td>\n",
              "    </tr>\n",
              "    <tr>\n",
              "      <th>Moran, Mr. James</th>\n",
              "      <td>6</td>\n",
              "      <td>male</td>\n",
              "    </tr>\n",
              "    <tr>\n",
              "      <th>McCarthy, Mr. Timothy J</th>\n",
              "      <td>7</td>\n",
              "      <td>male</td>\n",
              "    </tr>\n",
              "    <tr>\n",
              "      <th>Palsson, Master. Gosta Leonard</th>\n",
              "      <td>8</td>\n",
              "      <td>male</td>\n",
              "    </tr>\n",
              "    <tr>\n",
              "      <th>Johnson, Mrs. Oscar W (Elisabeth Vilhelmina Berg)</th>\n",
              "      <td>9</td>\n",
              "      <td>female</td>\n",
              "    </tr>\n",
              "  </tbody>\n",
              "</table>\n",
              "</div>\n",
              "      <button class=\"colab-df-convert\" onclick=\"convertToInteractive('df-e5341b51-414c-4f12-9dc0-0c098f87aefb')\"\n",
              "              title=\"Convert this dataframe to an interactive table.\"\n",
              "              style=\"display:none;\">\n",
              "        \n",
              "  <svg xmlns=\"http://www.w3.org/2000/svg\" height=\"24px\"viewBox=\"0 0 24 24\"\n",
              "       width=\"24px\">\n",
              "    <path d=\"M0 0h24v24H0V0z\" fill=\"none\"/>\n",
              "    <path d=\"M18.56 5.44l.94 2.06.94-2.06 2.06-.94-2.06-.94-.94-2.06-.94 2.06-2.06.94zm-11 1L8.5 8.5l.94-2.06 2.06-.94-2.06-.94L8.5 2.5l-.94 2.06-2.06.94zm10 10l.94 2.06.94-2.06 2.06-.94-2.06-.94-.94-2.06-.94 2.06-2.06.94z\"/><path d=\"M17.41 7.96l-1.37-1.37c-.4-.4-.92-.59-1.43-.59-.52 0-1.04.2-1.43.59L10.3 9.45l-7.72 7.72c-.78.78-.78 2.05 0 2.83L4 21.41c.39.39.9.59 1.41.59.51 0 1.02-.2 1.41-.59l7.78-7.78 2.81-2.81c.8-.78.8-2.07 0-2.86zM5.41 20L4 18.59l7.72-7.72 1.47 1.35L5.41 20z\"/>\n",
              "  </svg>\n",
              "      </button>\n",
              "      \n",
              "  <style>\n",
              "    .colab-df-container {\n",
              "      display:flex;\n",
              "      flex-wrap:wrap;\n",
              "      gap: 12px;\n",
              "    }\n",
              "\n",
              "    .colab-df-convert {\n",
              "      background-color: #E8F0FE;\n",
              "      border: none;\n",
              "      border-radius: 50%;\n",
              "      cursor: pointer;\n",
              "      display: none;\n",
              "      fill: #1967D2;\n",
              "      height: 32px;\n",
              "      padding: 0 0 0 0;\n",
              "      width: 32px;\n",
              "    }\n",
              "\n",
              "    .colab-df-convert:hover {\n",
              "      background-color: #E2EBFA;\n",
              "      box-shadow: 0px 1px 2px rgba(60, 64, 67, 0.3), 0px 1px 3px 1px rgba(60, 64, 67, 0.15);\n",
              "      fill: #174EA6;\n",
              "    }\n",
              "\n",
              "    [theme=dark] .colab-df-convert {\n",
              "      background-color: #3B4455;\n",
              "      fill: #D2E3FC;\n",
              "    }\n",
              "\n",
              "    [theme=dark] .colab-df-convert:hover {\n",
              "      background-color: #434B5C;\n",
              "      box-shadow: 0px 1px 3px 1px rgba(0, 0, 0, 0.15);\n",
              "      filter: drop-shadow(0px 1px 2px rgba(0, 0, 0, 0.3));\n",
              "      fill: #FFFFFF;\n",
              "    }\n",
              "  </style>\n",
              "\n",
              "      <script>\n",
              "        const buttonEl =\n",
              "          document.querySelector('#df-e5341b51-414c-4f12-9dc0-0c098f87aefb button.colab-df-convert');\n",
              "        buttonEl.style.display =\n",
              "          google.colab.kernel.accessAllowed ? 'block' : 'none';\n",
              "\n",
              "        async function convertToInteractive(key) {\n",
              "          const element = document.querySelector('#df-e5341b51-414c-4f12-9dc0-0c098f87aefb');\n",
              "          const dataTable =\n",
              "            await google.colab.kernel.invokeFunction('convertToInteractive',\n",
              "                                                     [key], {});\n",
              "          if (!dataTable) return;\n",
              "\n",
              "          const docLinkHtml = 'Like what you see? Visit the ' +\n",
              "            '<a target=\"_blank\" href=https://colab.research.google.com/notebooks/data_table.ipynb>data table notebook</a>'\n",
              "            + ' to learn more about interactive tables.';\n",
              "          element.innerHTML = '';\n",
              "          dataTable['output_type'] = 'display_data';\n",
              "          await google.colab.output.renderOutput(dataTable, element);\n",
              "          const docLink = document.createElement('div');\n",
              "          docLink.innerHTML = docLinkHtml;\n",
              "          element.appendChild(docLink);\n",
              "        }\n",
              "      </script>\n",
              "    </div>\n",
              "  </div>\n",
              "  "
            ]
          },
          "metadata": {},
          "execution_count": 26
        }
      ]
    },
    {
      "cell_type": "code",
      "source": [
        "titanic.loc[[\"McCarthy, Mr. Timothy J\", \"Johnson, Mrs. Oscar W (Elisabeth Vilhelmina Berg)\"], \"Age\"]"
      ],
      "metadata": {
        "colab": {
          "base_uri": "https://localhost:8080/"
        },
        "id": "uAl6ZvYM1rZ7",
        "outputId": "6b7c059e-30d7-4751-8a01-5d6af011f3b6"
      },
      "execution_count": null,
      "outputs": [
        {
          "output_type": "execute_result",
          "data": {
            "text/plain": [
              "Name\n",
              "McCarthy, Mr. Timothy J                              54.0\n",
              "Johnson, Mrs. Oscar W (Elisabeth Vilhelmina Berg)    27.0\n",
              "Name: Age, dtype: float64"
            ]
          },
          "metadata": {},
          "execution_count": 28
        }
      ]
    },
    {
      "cell_type": "markdown",
      "source": [
        "You can use the bracket notation to filter the dataset:"
      ],
      "metadata": {
        "id": "xBxdBb5s2CHy"
      }
    },
    {
      "cell_type": "code",
      "source": [
        "titanic[titanic[\"Age\"] >= 18]"
      ],
      "metadata": {
        "colab": {
          "base_uri": "https://localhost:8080/",
          "height": 455
        },
        "id": "FvkDOHIl2BhA",
        "outputId": "2a1de0a7-b61a-4724-d2a4-f8330c5199a6"
      },
      "execution_count": null,
      "outputs": [
        {
          "output_type": "execute_result",
          "data": {
            "text/plain": [
              "                                                    PassengerId  Survived  \\\n",
              "Name                                                                        \n",
              "Braund, Mr. Owen Harris                                       1         0   \n",
              "Cumings, Mrs. John Bradley (Florence Briggs Tha...            2         1   \n",
              "Heikkinen, Miss. Laina                                        3         1   \n",
              "Futrelle, Mrs. Jacques Heath (Lily May Peel)                  4         1   \n",
              "Allen, Mr. William Henry                                      5         0   \n",
              "...                                                         ...       ...   \n",
              "Rice, Mrs. William (Margaret Norton)                        886         0   \n",
              "Montvila, Rev. Juozas                                       887         0   \n",
              "Graham, Miss. Margaret Edith                                888         1   \n",
              "Behr, Mr. Karl Howell                                       890         1   \n",
              "Dooley, Mr. Patrick                                         891         0   \n",
              "\n",
              "                                                    Pclass     Sex   Age  \\\n",
              "Name                                                                       \n",
              "Braund, Mr. Owen Harris                                  3    male  22.0   \n",
              "Cumings, Mrs. John Bradley (Florence Briggs Tha...       1  female  38.0   \n",
              "Heikkinen, Miss. Laina                                   3  female  26.0   \n",
              "Futrelle, Mrs. Jacques Heath (Lily May Peel)             1  female  35.0   \n",
              "Allen, Mr. William Henry                                 3    male  35.0   \n",
              "...                                                    ...     ...   ...   \n",
              "Rice, Mrs. William (Margaret Norton)                     3  female  39.0   \n",
              "Montvila, Rev. Juozas                                    2    male  27.0   \n",
              "Graham, Miss. Margaret Edith                             1  female  19.0   \n",
              "Behr, Mr. Karl Howell                                    1    male  26.0   \n",
              "Dooley, Mr. Patrick                                      3    male  32.0   \n",
              "\n",
              "                                                    SibSp  Parch  \\\n",
              "Name                                                               \n",
              "Braund, Mr. Owen Harris                                 1      0   \n",
              "Cumings, Mrs. John Bradley (Florence Briggs Tha...      1      0   \n",
              "Heikkinen, Miss. Laina                                  0      0   \n",
              "Futrelle, Mrs. Jacques Heath (Lily May Peel)            1      0   \n",
              "Allen, Mr. William Henry                                0      0   \n",
              "...                                                   ...    ...   \n",
              "Rice, Mrs. William (Margaret Norton)                    0      5   \n",
              "Montvila, Rev. Juozas                                   0      0   \n",
              "Graham, Miss. Margaret Edith                            0      0   \n",
              "Behr, Mr. Karl Howell                                   0      0   \n",
              "Dooley, Mr. Patrick                                     0      0   \n",
              "\n",
              "                                                              Ticket     Fare  \\\n",
              "Name                                                                            \n",
              "Braund, Mr. Owen Harris                                    A/5 21171   7.2500   \n",
              "Cumings, Mrs. John Bradley (Florence Briggs Tha...          PC 17599  71.2833   \n",
              "Heikkinen, Miss. Laina                              STON/O2. 3101282   7.9250   \n",
              "Futrelle, Mrs. Jacques Heath (Lily May Peel)                  113803  53.1000   \n",
              "Allen, Mr. William Henry                                      373450   8.0500   \n",
              "...                                                              ...      ...   \n",
              "Rice, Mrs. William (Margaret Norton)                          382652  29.1250   \n",
              "Montvila, Rev. Juozas                                         211536  13.0000   \n",
              "Graham, Miss. Margaret Edith                                  112053  30.0000   \n",
              "Behr, Mr. Karl Howell                                         111369  30.0000   \n",
              "Dooley, Mr. Patrick                                           370376   7.7500   \n",
              "\n",
              "                                                   Cabin Embarked  \n",
              "Name                                                               \n",
              "Braund, Mr. Owen Harris                              NaN        S  \n",
              "Cumings, Mrs. John Bradley (Florence Briggs Tha...   C85        C  \n",
              "Heikkinen, Miss. Laina                               NaN        S  \n",
              "Futrelle, Mrs. Jacques Heath (Lily May Peel)        C123        S  \n",
              "Allen, Mr. William Henry                             NaN        S  \n",
              "...                                                  ...      ...  \n",
              "Rice, Mrs. William (Margaret Norton)                 NaN        Q  \n",
              "Montvila, Rev. Juozas                                NaN        S  \n",
              "Graham, Miss. Margaret Edith                         B42        S  \n",
              "Behr, Mr. Karl Howell                               C148        C  \n",
              "Dooley, Mr. Patrick                                  NaN        Q  \n",
              "\n",
              "[601 rows x 11 columns]"
            ],
            "text/html": [
              "\n",
              "  <div id=\"df-57b2a556-c381-4ad1-927f-866089ef5aa6\">\n",
              "    <div class=\"colab-df-container\">\n",
              "      <div>\n",
              "<style scoped>\n",
              "    .dataframe tbody tr th:only-of-type {\n",
              "        vertical-align: middle;\n",
              "    }\n",
              "\n",
              "    .dataframe tbody tr th {\n",
              "        vertical-align: top;\n",
              "    }\n",
              "\n",
              "    .dataframe thead th {\n",
              "        text-align: right;\n",
              "    }\n",
              "</style>\n",
              "<table border=\"1\" class=\"dataframe\">\n",
              "  <thead>\n",
              "    <tr style=\"text-align: right;\">\n",
              "      <th></th>\n",
              "      <th>PassengerId</th>\n",
              "      <th>Survived</th>\n",
              "      <th>Pclass</th>\n",
              "      <th>Sex</th>\n",
              "      <th>Age</th>\n",
              "      <th>SibSp</th>\n",
              "      <th>Parch</th>\n",
              "      <th>Ticket</th>\n",
              "      <th>Fare</th>\n",
              "      <th>Cabin</th>\n",
              "      <th>Embarked</th>\n",
              "    </tr>\n",
              "    <tr>\n",
              "      <th>Name</th>\n",
              "      <th></th>\n",
              "      <th></th>\n",
              "      <th></th>\n",
              "      <th></th>\n",
              "      <th></th>\n",
              "      <th></th>\n",
              "      <th></th>\n",
              "      <th></th>\n",
              "      <th></th>\n",
              "      <th></th>\n",
              "      <th></th>\n",
              "    </tr>\n",
              "  </thead>\n",
              "  <tbody>\n",
              "    <tr>\n",
              "      <th>Braund, Mr. Owen Harris</th>\n",
              "      <td>1</td>\n",
              "      <td>0</td>\n",
              "      <td>3</td>\n",
              "      <td>male</td>\n",
              "      <td>22.0</td>\n",
              "      <td>1</td>\n",
              "      <td>0</td>\n",
              "      <td>A/5 21171</td>\n",
              "      <td>7.2500</td>\n",
              "      <td>NaN</td>\n",
              "      <td>S</td>\n",
              "    </tr>\n",
              "    <tr>\n",
              "      <th>Cumings, Mrs. John Bradley (Florence Briggs Thayer)</th>\n",
              "      <td>2</td>\n",
              "      <td>1</td>\n",
              "      <td>1</td>\n",
              "      <td>female</td>\n",
              "      <td>38.0</td>\n",
              "      <td>1</td>\n",
              "      <td>0</td>\n",
              "      <td>PC 17599</td>\n",
              "      <td>71.2833</td>\n",
              "      <td>C85</td>\n",
              "      <td>C</td>\n",
              "    </tr>\n",
              "    <tr>\n",
              "      <th>Heikkinen, Miss. Laina</th>\n",
              "      <td>3</td>\n",
              "      <td>1</td>\n",
              "      <td>3</td>\n",
              "      <td>female</td>\n",
              "      <td>26.0</td>\n",
              "      <td>0</td>\n",
              "      <td>0</td>\n",
              "      <td>STON/O2. 3101282</td>\n",
              "      <td>7.9250</td>\n",
              "      <td>NaN</td>\n",
              "      <td>S</td>\n",
              "    </tr>\n",
              "    <tr>\n",
              "      <th>Futrelle, Mrs. Jacques Heath (Lily May Peel)</th>\n",
              "      <td>4</td>\n",
              "      <td>1</td>\n",
              "      <td>1</td>\n",
              "      <td>female</td>\n",
              "      <td>35.0</td>\n",
              "      <td>1</td>\n",
              "      <td>0</td>\n",
              "      <td>113803</td>\n",
              "      <td>53.1000</td>\n",
              "      <td>C123</td>\n",
              "      <td>S</td>\n",
              "    </tr>\n",
              "    <tr>\n",
              "      <th>Allen, Mr. William Henry</th>\n",
              "      <td>5</td>\n",
              "      <td>0</td>\n",
              "      <td>3</td>\n",
              "      <td>male</td>\n",
              "      <td>35.0</td>\n",
              "      <td>0</td>\n",
              "      <td>0</td>\n",
              "      <td>373450</td>\n",
              "      <td>8.0500</td>\n",
              "      <td>NaN</td>\n",
              "      <td>S</td>\n",
              "    </tr>\n",
              "    <tr>\n",
              "      <th>...</th>\n",
              "      <td>...</td>\n",
              "      <td>...</td>\n",
              "      <td>...</td>\n",
              "      <td>...</td>\n",
              "      <td>...</td>\n",
              "      <td>...</td>\n",
              "      <td>...</td>\n",
              "      <td>...</td>\n",
              "      <td>...</td>\n",
              "      <td>...</td>\n",
              "      <td>...</td>\n",
              "    </tr>\n",
              "    <tr>\n",
              "      <th>Rice, Mrs. William (Margaret Norton)</th>\n",
              "      <td>886</td>\n",
              "      <td>0</td>\n",
              "      <td>3</td>\n",
              "      <td>female</td>\n",
              "      <td>39.0</td>\n",
              "      <td>0</td>\n",
              "      <td>5</td>\n",
              "      <td>382652</td>\n",
              "      <td>29.1250</td>\n",
              "      <td>NaN</td>\n",
              "      <td>Q</td>\n",
              "    </tr>\n",
              "    <tr>\n",
              "      <th>Montvila, Rev. Juozas</th>\n",
              "      <td>887</td>\n",
              "      <td>0</td>\n",
              "      <td>2</td>\n",
              "      <td>male</td>\n",
              "      <td>27.0</td>\n",
              "      <td>0</td>\n",
              "      <td>0</td>\n",
              "      <td>211536</td>\n",
              "      <td>13.0000</td>\n",
              "      <td>NaN</td>\n",
              "      <td>S</td>\n",
              "    </tr>\n",
              "    <tr>\n",
              "      <th>Graham, Miss. Margaret Edith</th>\n",
              "      <td>888</td>\n",
              "      <td>1</td>\n",
              "      <td>1</td>\n",
              "      <td>female</td>\n",
              "      <td>19.0</td>\n",
              "      <td>0</td>\n",
              "      <td>0</td>\n",
              "      <td>112053</td>\n",
              "      <td>30.0000</td>\n",
              "      <td>B42</td>\n",
              "      <td>S</td>\n",
              "    </tr>\n",
              "    <tr>\n",
              "      <th>Behr, Mr. Karl Howell</th>\n",
              "      <td>890</td>\n",
              "      <td>1</td>\n",
              "      <td>1</td>\n",
              "      <td>male</td>\n",
              "      <td>26.0</td>\n",
              "      <td>0</td>\n",
              "      <td>0</td>\n",
              "      <td>111369</td>\n",
              "      <td>30.0000</td>\n",
              "      <td>C148</td>\n",
              "      <td>C</td>\n",
              "    </tr>\n",
              "    <tr>\n",
              "      <th>Dooley, Mr. Patrick</th>\n",
              "      <td>891</td>\n",
              "      <td>0</td>\n",
              "      <td>3</td>\n",
              "      <td>male</td>\n",
              "      <td>32.0</td>\n",
              "      <td>0</td>\n",
              "      <td>0</td>\n",
              "      <td>370376</td>\n",
              "      <td>7.7500</td>\n",
              "      <td>NaN</td>\n",
              "      <td>Q</td>\n",
              "    </tr>\n",
              "  </tbody>\n",
              "</table>\n",
              "<p>601 rows × 11 columns</p>\n",
              "</div>\n",
              "      <button class=\"colab-df-convert\" onclick=\"convertToInteractive('df-57b2a556-c381-4ad1-927f-866089ef5aa6')\"\n",
              "              title=\"Convert this dataframe to an interactive table.\"\n",
              "              style=\"display:none;\">\n",
              "        \n",
              "  <svg xmlns=\"http://www.w3.org/2000/svg\" height=\"24px\"viewBox=\"0 0 24 24\"\n",
              "       width=\"24px\">\n",
              "    <path d=\"M0 0h24v24H0V0z\" fill=\"none\"/>\n",
              "    <path d=\"M18.56 5.44l.94 2.06.94-2.06 2.06-.94-2.06-.94-.94-2.06-.94 2.06-2.06.94zm-11 1L8.5 8.5l.94-2.06 2.06-.94-2.06-.94L8.5 2.5l-.94 2.06-2.06.94zm10 10l.94 2.06.94-2.06 2.06-.94-2.06-.94-.94-2.06-.94 2.06-2.06.94z\"/><path d=\"M17.41 7.96l-1.37-1.37c-.4-.4-.92-.59-1.43-.59-.52 0-1.04.2-1.43.59L10.3 9.45l-7.72 7.72c-.78.78-.78 2.05 0 2.83L4 21.41c.39.39.9.59 1.41.59.51 0 1.02-.2 1.41-.59l7.78-7.78 2.81-2.81c.8-.78.8-2.07 0-2.86zM5.41 20L4 18.59l7.72-7.72 1.47 1.35L5.41 20z\"/>\n",
              "  </svg>\n",
              "      </button>\n",
              "      \n",
              "  <style>\n",
              "    .colab-df-container {\n",
              "      display:flex;\n",
              "      flex-wrap:wrap;\n",
              "      gap: 12px;\n",
              "    }\n",
              "\n",
              "    .colab-df-convert {\n",
              "      background-color: #E8F0FE;\n",
              "      border: none;\n",
              "      border-radius: 50%;\n",
              "      cursor: pointer;\n",
              "      display: none;\n",
              "      fill: #1967D2;\n",
              "      height: 32px;\n",
              "      padding: 0 0 0 0;\n",
              "      width: 32px;\n",
              "    }\n",
              "\n",
              "    .colab-df-convert:hover {\n",
              "      background-color: #E2EBFA;\n",
              "      box-shadow: 0px 1px 2px rgba(60, 64, 67, 0.3), 0px 1px 3px 1px rgba(60, 64, 67, 0.15);\n",
              "      fill: #174EA6;\n",
              "    }\n",
              "\n",
              "    [theme=dark] .colab-df-convert {\n",
              "      background-color: #3B4455;\n",
              "      fill: #D2E3FC;\n",
              "    }\n",
              "\n",
              "    [theme=dark] .colab-df-convert:hover {\n",
              "      background-color: #434B5C;\n",
              "      box-shadow: 0px 1px 3px 1px rgba(0, 0, 0, 0.15);\n",
              "      filter: drop-shadow(0px 1px 2px rgba(0, 0, 0, 0.3));\n",
              "      fill: #FFFFFF;\n",
              "    }\n",
              "  </style>\n",
              "\n",
              "      <script>\n",
              "        const buttonEl =\n",
              "          document.querySelector('#df-57b2a556-c381-4ad1-927f-866089ef5aa6 button.colab-df-convert');\n",
              "        buttonEl.style.display =\n",
              "          google.colab.kernel.accessAllowed ? 'block' : 'none';\n",
              "\n",
              "        async function convertToInteractive(key) {\n",
              "          const element = document.querySelector('#df-57b2a556-c381-4ad1-927f-866089ef5aa6');\n",
              "          const dataTable =\n",
              "            await google.colab.kernel.invokeFunction('convertToInteractive',\n",
              "                                                     [key], {});\n",
              "          if (!dataTable) return;\n",
              "\n",
              "          const docLinkHtml = 'Like what you see? Visit the ' +\n",
              "            '<a target=\"_blank\" href=https://colab.research.google.com/notebooks/data_table.ipynb>data table notebook</a>'\n",
              "            + ' to learn more about interactive tables.';\n",
              "          element.innerHTML = '';\n",
              "          dataTable['output_type'] = 'display_data';\n",
              "          await google.colab.output.renderOutput(dataTable, element);\n",
              "          const docLink = document.createElement('div');\n",
              "          docLink.innerHTML = docLinkHtml;\n",
              "          element.appendChild(docLink);\n",
              "        }\n",
              "      </script>\n",
              "    </div>\n",
              "  </div>\n",
              "  "
            ]
          },
          "metadata": {},
          "execution_count": 29
        }
      ]
    },
    {
      "cell_type": "markdown",
      "source": [
        "This has reduced the dataset from 891 rows to 601.\n",
        "\n",
        "If we wanted to combine multiple conditions together, we can use conditional operators. However, Python's usual conditional operators (`and`, `or`, `not`) will not work here, and instead we will need to use symbols (`&`, `|`, `!`)."
      ],
      "metadata": {
        "id": "Nysfs00k2N8M"
      }
    },
    {
      "cell_type": "code",
      "source": [
        "# Selecting passengers whose ages are 18 and above and are in passenger class 3.\n",
        "titanic[(titanic[\"Age\"] >= 18) & (titanic[\"Pclass\"] == 3)] #Note that we need to wrap each conditional statement in parentheses."
      ],
      "metadata": {
        "colab": {
          "base_uri": "https://localhost:8080/",
          "height": 455
        },
        "id": "e_U89ZGj1nQs",
        "outputId": "cbd1c933-5a2f-4427-ef0f-281bc0649406"
      },
      "execution_count": null,
      "outputs": [
        {
          "output_type": "execute_result",
          "data": {
            "text/plain": [
              "                                                   PassengerId  Survived  \\\n",
              "Name                                                                       \n",
              "Braund, Mr. Owen Harris                                      1         0   \n",
              "Heikkinen, Miss. Laina                                       3         1   \n",
              "Allen, Mr. William Henry                                     5         0   \n",
              "Johnson, Mrs. Oscar W (Elisabeth Vilhelmina Berg)            9         1   \n",
              "Saundercock, Mr. William Henry                              13         0   \n",
              "...                                                        ...       ...   \n",
              "Markun, Mr. Johann                                         882         0   \n",
              "Dahlberg, Miss. Gerda Ulrika                               883         0   \n",
              "Sutehall, Mr. Henry Jr                                     885         0   \n",
              "Rice, Mrs. William (Margaret Norton)                       886         0   \n",
              "Dooley, Mr. Patrick                                        891         0   \n",
              "\n",
              "                                                   Pclass     Sex   Age  \\\n",
              "Name                                                                      \n",
              "Braund, Mr. Owen Harris                                 3    male  22.0   \n",
              "Heikkinen, Miss. Laina                                  3  female  26.0   \n",
              "Allen, Mr. William Henry                                3    male  35.0   \n",
              "Johnson, Mrs. Oscar W (Elisabeth Vilhelmina Berg)       3  female  27.0   \n",
              "Saundercock, Mr. William Henry                          3    male  20.0   \n",
              "...                                                   ...     ...   ...   \n",
              "Markun, Mr. Johann                                      3    male  33.0   \n",
              "Dahlberg, Miss. Gerda Ulrika                            3  female  22.0   \n",
              "Sutehall, Mr. Henry Jr                                  3    male  25.0   \n",
              "Rice, Mrs. William (Margaret Norton)                    3  female  39.0   \n",
              "Dooley, Mr. Patrick                                     3    male  32.0   \n",
              "\n",
              "                                                   SibSp  Parch  \\\n",
              "Name                                                              \n",
              "Braund, Mr. Owen Harris                                1      0   \n",
              "Heikkinen, Miss. Laina                                 0      0   \n",
              "Allen, Mr. William Henry                               0      0   \n",
              "Johnson, Mrs. Oscar W (Elisabeth Vilhelmina Berg)      0      2   \n",
              "Saundercock, Mr. William Henry                         0      0   \n",
              "...                                                  ...    ...   \n",
              "Markun, Mr. Johann                                     0      0   \n",
              "Dahlberg, Miss. Gerda Ulrika                           0      0   \n",
              "Sutehall, Mr. Henry Jr                                 0      0   \n",
              "Rice, Mrs. William (Margaret Norton)                   0      5   \n",
              "Dooley, Mr. Patrick                                    0      0   \n",
              "\n",
              "                                                             Ticket     Fare  \\\n",
              "Name                                                                           \n",
              "Braund, Mr. Owen Harris                                   A/5 21171   7.2500   \n",
              "Heikkinen, Miss. Laina                             STON/O2. 3101282   7.9250   \n",
              "Allen, Mr. William Henry                                     373450   8.0500   \n",
              "Johnson, Mrs. Oscar W (Elisabeth Vilhelmina Berg)            347742  11.1333   \n",
              "Saundercock, Mr. William Henry                            A/5. 2151   8.0500   \n",
              "...                                                             ...      ...   \n",
              "Markun, Mr. Johann                                           349257   7.8958   \n",
              "Dahlberg, Miss. Gerda Ulrika                                   7552  10.5167   \n",
              "Sutehall, Mr. Henry Jr                              SOTON/OQ 392076   7.0500   \n",
              "Rice, Mrs. William (Margaret Norton)                         382652  29.1250   \n",
              "Dooley, Mr. Patrick                                          370376   7.7500   \n",
              "\n",
              "                                                  Cabin Embarked  \n",
              "Name                                                              \n",
              "Braund, Mr. Owen Harris                             NaN        S  \n",
              "Heikkinen, Miss. Laina                              NaN        S  \n",
              "Allen, Mr. William Henry                            NaN        S  \n",
              "Johnson, Mrs. Oscar W (Elisabeth Vilhelmina Berg)   NaN        S  \n",
              "Saundercock, Mr. William Henry                      NaN        S  \n",
              "...                                                 ...      ...  \n",
              "Markun, Mr. Johann                                  NaN        S  \n",
              "Dahlberg, Miss. Gerda Ulrika                        NaN        S  \n",
              "Sutehall, Mr. Henry Jr                              NaN        S  \n",
              "Rice, Mrs. William (Margaret Norton)                NaN        Q  \n",
              "Dooley, Mr. Patrick                                 NaN        Q  \n",
              "\n",
              "[277 rows x 11 columns]"
            ],
            "text/html": [
              "\n",
              "  <div id=\"df-49fd6671-38c3-4bc4-86d2-799170d08532\">\n",
              "    <div class=\"colab-df-container\">\n",
              "      <div>\n",
              "<style scoped>\n",
              "    .dataframe tbody tr th:only-of-type {\n",
              "        vertical-align: middle;\n",
              "    }\n",
              "\n",
              "    .dataframe tbody tr th {\n",
              "        vertical-align: top;\n",
              "    }\n",
              "\n",
              "    .dataframe thead th {\n",
              "        text-align: right;\n",
              "    }\n",
              "</style>\n",
              "<table border=\"1\" class=\"dataframe\">\n",
              "  <thead>\n",
              "    <tr style=\"text-align: right;\">\n",
              "      <th></th>\n",
              "      <th>PassengerId</th>\n",
              "      <th>Survived</th>\n",
              "      <th>Pclass</th>\n",
              "      <th>Sex</th>\n",
              "      <th>Age</th>\n",
              "      <th>SibSp</th>\n",
              "      <th>Parch</th>\n",
              "      <th>Ticket</th>\n",
              "      <th>Fare</th>\n",
              "      <th>Cabin</th>\n",
              "      <th>Embarked</th>\n",
              "    </tr>\n",
              "    <tr>\n",
              "      <th>Name</th>\n",
              "      <th></th>\n",
              "      <th></th>\n",
              "      <th></th>\n",
              "      <th></th>\n",
              "      <th></th>\n",
              "      <th></th>\n",
              "      <th></th>\n",
              "      <th></th>\n",
              "      <th></th>\n",
              "      <th></th>\n",
              "      <th></th>\n",
              "    </tr>\n",
              "  </thead>\n",
              "  <tbody>\n",
              "    <tr>\n",
              "      <th>Braund, Mr. Owen Harris</th>\n",
              "      <td>1</td>\n",
              "      <td>0</td>\n",
              "      <td>3</td>\n",
              "      <td>male</td>\n",
              "      <td>22.0</td>\n",
              "      <td>1</td>\n",
              "      <td>0</td>\n",
              "      <td>A/5 21171</td>\n",
              "      <td>7.2500</td>\n",
              "      <td>NaN</td>\n",
              "      <td>S</td>\n",
              "    </tr>\n",
              "    <tr>\n",
              "      <th>Heikkinen, Miss. Laina</th>\n",
              "      <td>3</td>\n",
              "      <td>1</td>\n",
              "      <td>3</td>\n",
              "      <td>female</td>\n",
              "      <td>26.0</td>\n",
              "      <td>0</td>\n",
              "      <td>0</td>\n",
              "      <td>STON/O2. 3101282</td>\n",
              "      <td>7.9250</td>\n",
              "      <td>NaN</td>\n",
              "      <td>S</td>\n",
              "    </tr>\n",
              "    <tr>\n",
              "      <th>Allen, Mr. William Henry</th>\n",
              "      <td>5</td>\n",
              "      <td>0</td>\n",
              "      <td>3</td>\n",
              "      <td>male</td>\n",
              "      <td>35.0</td>\n",
              "      <td>0</td>\n",
              "      <td>0</td>\n",
              "      <td>373450</td>\n",
              "      <td>8.0500</td>\n",
              "      <td>NaN</td>\n",
              "      <td>S</td>\n",
              "    </tr>\n",
              "    <tr>\n",
              "      <th>Johnson, Mrs. Oscar W (Elisabeth Vilhelmina Berg)</th>\n",
              "      <td>9</td>\n",
              "      <td>1</td>\n",
              "      <td>3</td>\n",
              "      <td>female</td>\n",
              "      <td>27.0</td>\n",
              "      <td>0</td>\n",
              "      <td>2</td>\n",
              "      <td>347742</td>\n",
              "      <td>11.1333</td>\n",
              "      <td>NaN</td>\n",
              "      <td>S</td>\n",
              "    </tr>\n",
              "    <tr>\n",
              "      <th>Saundercock, Mr. William Henry</th>\n",
              "      <td>13</td>\n",
              "      <td>0</td>\n",
              "      <td>3</td>\n",
              "      <td>male</td>\n",
              "      <td>20.0</td>\n",
              "      <td>0</td>\n",
              "      <td>0</td>\n",
              "      <td>A/5. 2151</td>\n",
              "      <td>8.0500</td>\n",
              "      <td>NaN</td>\n",
              "      <td>S</td>\n",
              "    </tr>\n",
              "    <tr>\n",
              "      <th>...</th>\n",
              "      <td>...</td>\n",
              "      <td>...</td>\n",
              "      <td>...</td>\n",
              "      <td>...</td>\n",
              "      <td>...</td>\n",
              "      <td>...</td>\n",
              "      <td>...</td>\n",
              "      <td>...</td>\n",
              "      <td>...</td>\n",
              "      <td>...</td>\n",
              "      <td>...</td>\n",
              "    </tr>\n",
              "    <tr>\n",
              "      <th>Markun, Mr. Johann</th>\n",
              "      <td>882</td>\n",
              "      <td>0</td>\n",
              "      <td>3</td>\n",
              "      <td>male</td>\n",
              "      <td>33.0</td>\n",
              "      <td>0</td>\n",
              "      <td>0</td>\n",
              "      <td>349257</td>\n",
              "      <td>7.8958</td>\n",
              "      <td>NaN</td>\n",
              "      <td>S</td>\n",
              "    </tr>\n",
              "    <tr>\n",
              "      <th>Dahlberg, Miss. Gerda Ulrika</th>\n",
              "      <td>883</td>\n",
              "      <td>0</td>\n",
              "      <td>3</td>\n",
              "      <td>female</td>\n",
              "      <td>22.0</td>\n",
              "      <td>0</td>\n",
              "      <td>0</td>\n",
              "      <td>7552</td>\n",
              "      <td>10.5167</td>\n",
              "      <td>NaN</td>\n",
              "      <td>S</td>\n",
              "    </tr>\n",
              "    <tr>\n",
              "      <th>Sutehall, Mr. Henry Jr</th>\n",
              "      <td>885</td>\n",
              "      <td>0</td>\n",
              "      <td>3</td>\n",
              "      <td>male</td>\n",
              "      <td>25.0</td>\n",
              "      <td>0</td>\n",
              "      <td>0</td>\n",
              "      <td>SOTON/OQ 392076</td>\n",
              "      <td>7.0500</td>\n",
              "      <td>NaN</td>\n",
              "      <td>S</td>\n",
              "    </tr>\n",
              "    <tr>\n",
              "      <th>Rice, Mrs. William (Margaret Norton)</th>\n",
              "      <td>886</td>\n",
              "      <td>0</td>\n",
              "      <td>3</td>\n",
              "      <td>female</td>\n",
              "      <td>39.0</td>\n",
              "      <td>0</td>\n",
              "      <td>5</td>\n",
              "      <td>382652</td>\n",
              "      <td>29.1250</td>\n",
              "      <td>NaN</td>\n",
              "      <td>Q</td>\n",
              "    </tr>\n",
              "    <tr>\n",
              "      <th>Dooley, Mr. Patrick</th>\n",
              "      <td>891</td>\n",
              "      <td>0</td>\n",
              "      <td>3</td>\n",
              "      <td>male</td>\n",
              "      <td>32.0</td>\n",
              "      <td>0</td>\n",
              "      <td>0</td>\n",
              "      <td>370376</td>\n",
              "      <td>7.7500</td>\n",
              "      <td>NaN</td>\n",
              "      <td>Q</td>\n",
              "    </tr>\n",
              "  </tbody>\n",
              "</table>\n",
              "<p>277 rows × 11 columns</p>\n",
              "</div>\n",
              "      <button class=\"colab-df-convert\" onclick=\"convertToInteractive('df-49fd6671-38c3-4bc4-86d2-799170d08532')\"\n",
              "              title=\"Convert this dataframe to an interactive table.\"\n",
              "              style=\"display:none;\">\n",
              "        \n",
              "  <svg xmlns=\"http://www.w3.org/2000/svg\" height=\"24px\"viewBox=\"0 0 24 24\"\n",
              "       width=\"24px\">\n",
              "    <path d=\"M0 0h24v24H0V0z\" fill=\"none\"/>\n",
              "    <path d=\"M18.56 5.44l.94 2.06.94-2.06 2.06-.94-2.06-.94-.94-2.06-.94 2.06-2.06.94zm-11 1L8.5 8.5l.94-2.06 2.06-.94-2.06-.94L8.5 2.5l-.94 2.06-2.06.94zm10 10l.94 2.06.94-2.06 2.06-.94-2.06-.94-.94-2.06-.94 2.06-2.06.94z\"/><path d=\"M17.41 7.96l-1.37-1.37c-.4-.4-.92-.59-1.43-.59-.52 0-1.04.2-1.43.59L10.3 9.45l-7.72 7.72c-.78.78-.78 2.05 0 2.83L4 21.41c.39.39.9.59 1.41.59.51 0 1.02-.2 1.41-.59l7.78-7.78 2.81-2.81c.8-.78.8-2.07 0-2.86zM5.41 20L4 18.59l7.72-7.72 1.47 1.35L5.41 20z\"/>\n",
              "  </svg>\n",
              "      </button>\n",
              "      \n",
              "  <style>\n",
              "    .colab-df-container {\n",
              "      display:flex;\n",
              "      flex-wrap:wrap;\n",
              "      gap: 12px;\n",
              "    }\n",
              "\n",
              "    .colab-df-convert {\n",
              "      background-color: #E8F0FE;\n",
              "      border: none;\n",
              "      border-radius: 50%;\n",
              "      cursor: pointer;\n",
              "      display: none;\n",
              "      fill: #1967D2;\n",
              "      height: 32px;\n",
              "      padding: 0 0 0 0;\n",
              "      width: 32px;\n",
              "    }\n",
              "\n",
              "    .colab-df-convert:hover {\n",
              "      background-color: #E2EBFA;\n",
              "      box-shadow: 0px 1px 2px rgba(60, 64, 67, 0.3), 0px 1px 3px 1px rgba(60, 64, 67, 0.15);\n",
              "      fill: #174EA6;\n",
              "    }\n",
              "\n",
              "    [theme=dark] .colab-df-convert {\n",
              "      background-color: #3B4455;\n",
              "      fill: #D2E3FC;\n",
              "    }\n",
              "\n",
              "    [theme=dark] .colab-df-convert:hover {\n",
              "      background-color: #434B5C;\n",
              "      box-shadow: 0px 1px 3px 1px rgba(0, 0, 0, 0.15);\n",
              "      filter: drop-shadow(0px 1px 2px rgba(0, 0, 0, 0.3));\n",
              "      fill: #FFFFFF;\n",
              "    }\n",
              "  </style>\n",
              "\n",
              "      <script>\n",
              "        const buttonEl =\n",
              "          document.querySelector('#df-49fd6671-38c3-4bc4-86d2-799170d08532 button.colab-df-convert');\n",
              "        buttonEl.style.display =\n",
              "          google.colab.kernel.accessAllowed ? 'block' : 'none';\n",
              "\n",
              "        async function convertToInteractive(key) {\n",
              "          const element = document.querySelector('#df-49fd6671-38c3-4bc4-86d2-799170d08532');\n",
              "          const dataTable =\n",
              "            await google.colab.kernel.invokeFunction('convertToInteractive',\n",
              "                                                     [key], {});\n",
              "          if (!dataTable) return;\n",
              "\n",
              "          const docLinkHtml = 'Like what you see? Visit the ' +\n",
              "            '<a target=\"_blank\" href=https://colab.research.google.com/notebooks/data_table.ipynb>data table notebook</a>'\n",
              "            + ' to learn more about interactive tables.';\n",
              "          element.innerHTML = '';\n",
              "          dataTable['output_type'] = 'display_data';\n",
              "          await google.colab.output.renderOutput(dataTable, element);\n",
              "          const docLink = document.createElement('div');\n",
              "          docLink.innerHTML = docLinkHtml;\n",
              "          element.appendChild(docLink);\n",
              "        }\n",
              "      </script>\n",
              "    </div>\n",
              "  </div>\n",
              "  "
            ]
          },
          "metadata": {},
          "execution_count": 30
        }
      ]
    },
    {
      "cell_type": "markdown",
      "source": [
        "That line of code is quite longwinded, so if you wanted to filter your DataFrame in a more concise way, you can use the `.query()` method:"
      ],
      "metadata": {
        "id": "jjZYzmoz6Mrz"
      }
    },
    {
      "cell_type": "code",
      "source": [
        "titanic.query(\"Age >= 18 & Pclass == 3\")"
      ],
      "metadata": {
        "colab": {
          "base_uri": "https://localhost:8080/",
          "height": 455
        },
        "id": "7GmpTBWH6as8",
        "outputId": "0e9fd7bb-331d-4545-be8c-b4be1ed750f2"
      },
      "execution_count": null,
      "outputs": [
        {
          "output_type": "execute_result",
          "data": {
            "text/plain": [
              "                                                   PassengerId  Survived  \\\n",
              "Name                                                                       \n",
              "Braund, Mr. Owen Harris                                      1         0   \n",
              "Heikkinen, Miss. Laina                                       3         1   \n",
              "Allen, Mr. William Henry                                     5         0   \n",
              "Johnson, Mrs. Oscar W (Elisabeth Vilhelmina Berg)            9         1   \n",
              "Saundercock, Mr. William Henry                              13         0   \n",
              "...                                                        ...       ...   \n",
              "Markun, Mr. Johann                                         882         0   \n",
              "Dahlberg, Miss. Gerda Ulrika                               883         0   \n",
              "Sutehall, Mr. Henry Jr                                     885         0   \n",
              "Rice, Mrs. William (Margaret Norton)                       886         0   \n",
              "Dooley, Mr. Patrick                                        891         0   \n",
              "\n",
              "                                                   Pclass     Sex   Age  \\\n",
              "Name                                                                      \n",
              "Braund, Mr. Owen Harris                                 3    male  22.0   \n",
              "Heikkinen, Miss. Laina                                  3  female  26.0   \n",
              "Allen, Mr. William Henry                                3    male  35.0   \n",
              "Johnson, Mrs. Oscar W (Elisabeth Vilhelmina Berg)       3  female  27.0   \n",
              "Saundercock, Mr. William Henry                          3    male  20.0   \n",
              "...                                                   ...     ...   ...   \n",
              "Markun, Mr. Johann                                      3    male  33.0   \n",
              "Dahlberg, Miss. Gerda Ulrika                            3  female  22.0   \n",
              "Sutehall, Mr. Henry Jr                                  3    male  25.0   \n",
              "Rice, Mrs. William (Margaret Norton)                    3  female  39.0   \n",
              "Dooley, Mr. Patrick                                     3    male  32.0   \n",
              "\n",
              "                                                   SibSp  Parch  \\\n",
              "Name                                                              \n",
              "Braund, Mr. Owen Harris                                1      0   \n",
              "Heikkinen, Miss. Laina                                 0      0   \n",
              "Allen, Mr. William Henry                               0      0   \n",
              "Johnson, Mrs. Oscar W (Elisabeth Vilhelmina Berg)      0      2   \n",
              "Saundercock, Mr. William Henry                         0      0   \n",
              "...                                                  ...    ...   \n",
              "Markun, Mr. Johann                                     0      0   \n",
              "Dahlberg, Miss. Gerda Ulrika                           0      0   \n",
              "Sutehall, Mr. Henry Jr                                 0      0   \n",
              "Rice, Mrs. William (Margaret Norton)                   0      5   \n",
              "Dooley, Mr. Patrick                                    0      0   \n",
              "\n",
              "                                                             Ticket     Fare  \\\n",
              "Name                                                                           \n",
              "Braund, Mr. Owen Harris                                   A/5 21171   7.2500   \n",
              "Heikkinen, Miss. Laina                             STON/O2. 3101282   7.9250   \n",
              "Allen, Mr. William Henry                                     373450   8.0500   \n",
              "Johnson, Mrs. Oscar W (Elisabeth Vilhelmina Berg)            347742  11.1333   \n",
              "Saundercock, Mr. William Henry                            A/5. 2151   8.0500   \n",
              "...                                                             ...      ...   \n",
              "Markun, Mr. Johann                                           349257   7.8958   \n",
              "Dahlberg, Miss. Gerda Ulrika                                   7552  10.5167   \n",
              "Sutehall, Mr. Henry Jr                              SOTON/OQ 392076   7.0500   \n",
              "Rice, Mrs. William (Margaret Norton)                         382652  29.1250   \n",
              "Dooley, Mr. Patrick                                          370376   7.7500   \n",
              "\n",
              "                                                  Cabin Embarked  \n",
              "Name                                                              \n",
              "Braund, Mr. Owen Harris                             NaN        S  \n",
              "Heikkinen, Miss. Laina                              NaN        S  \n",
              "Allen, Mr. William Henry                            NaN        S  \n",
              "Johnson, Mrs. Oscar W (Elisabeth Vilhelmina Berg)   NaN        S  \n",
              "Saundercock, Mr. William Henry                      NaN        S  \n",
              "...                                                 ...      ...  \n",
              "Markun, Mr. Johann                                  NaN        S  \n",
              "Dahlberg, Miss. Gerda Ulrika                        NaN        S  \n",
              "Sutehall, Mr. Henry Jr                              NaN        S  \n",
              "Rice, Mrs. William (Margaret Norton)                NaN        Q  \n",
              "Dooley, Mr. Patrick                                 NaN        Q  \n",
              "\n",
              "[277 rows x 11 columns]"
            ],
            "text/html": [
              "\n",
              "  <div id=\"df-4c523bb4-00ee-4783-b5ab-22baf17a0636\">\n",
              "    <div class=\"colab-df-container\">\n",
              "      <div>\n",
              "<style scoped>\n",
              "    .dataframe tbody tr th:only-of-type {\n",
              "        vertical-align: middle;\n",
              "    }\n",
              "\n",
              "    .dataframe tbody tr th {\n",
              "        vertical-align: top;\n",
              "    }\n",
              "\n",
              "    .dataframe thead th {\n",
              "        text-align: right;\n",
              "    }\n",
              "</style>\n",
              "<table border=\"1\" class=\"dataframe\">\n",
              "  <thead>\n",
              "    <tr style=\"text-align: right;\">\n",
              "      <th></th>\n",
              "      <th>PassengerId</th>\n",
              "      <th>Survived</th>\n",
              "      <th>Pclass</th>\n",
              "      <th>Sex</th>\n",
              "      <th>Age</th>\n",
              "      <th>SibSp</th>\n",
              "      <th>Parch</th>\n",
              "      <th>Ticket</th>\n",
              "      <th>Fare</th>\n",
              "      <th>Cabin</th>\n",
              "      <th>Embarked</th>\n",
              "    </tr>\n",
              "    <tr>\n",
              "      <th>Name</th>\n",
              "      <th></th>\n",
              "      <th></th>\n",
              "      <th></th>\n",
              "      <th></th>\n",
              "      <th></th>\n",
              "      <th></th>\n",
              "      <th></th>\n",
              "      <th></th>\n",
              "      <th></th>\n",
              "      <th></th>\n",
              "      <th></th>\n",
              "    </tr>\n",
              "  </thead>\n",
              "  <tbody>\n",
              "    <tr>\n",
              "      <th>Braund, Mr. Owen Harris</th>\n",
              "      <td>1</td>\n",
              "      <td>0</td>\n",
              "      <td>3</td>\n",
              "      <td>male</td>\n",
              "      <td>22.0</td>\n",
              "      <td>1</td>\n",
              "      <td>0</td>\n",
              "      <td>A/5 21171</td>\n",
              "      <td>7.2500</td>\n",
              "      <td>NaN</td>\n",
              "      <td>S</td>\n",
              "    </tr>\n",
              "    <tr>\n",
              "      <th>Heikkinen, Miss. Laina</th>\n",
              "      <td>3</td>\n",
              "      <td>1</td>\n",
              "      <td>3</td>\n",
              "      <td>female</td>\n",
              "      <td>26.0</td>\n",
              "      <td>0</td>\n",
              "      <td>0</td>\n",
              "      <td>STON/O2. 3101282</td>\n",
              "      <td>7.9250</td>\n",
              "      <td>NaN</td>\n",
              "      <td>S</td>\n",
              "    </tr>\n",
              "    <tr>\n",
              "      <th>Allen, Mr. William Henry</th>\n",
              "      <td>5</td>\n",
              "      <td>0</td>\n",
              "      <td>3</td>\n",
              "      <td>male</td>\n",
              "      <td>35.0</td>\n",
              "      <td>0</td>\n",
              "      <td>0</td>\n",
              "      <td>373450</td>\n",
              "      <td>8.0500</td>\n",
              "      <td>NaN</td>\n",
              "      <td>S</td>\n",
              "    </tr>\n",
              "    <tr>\n",
              "      <th>Johnson, Mrs. Oscar W (Elisabeth Vilhelmina Berg)</th>\n",
              "      <td>9</td>\n",
              "      <td>1</td>\n",
              "      <td>3</td>\n",
              "      <td>female</td>\n",
              "      <td>27.0</td>\n",
              "      <td>0</td>\n",
              "      <td>2</td>\n",
              "      <td>347742</td>\n",
              "      <td>11.1333</td>\n",
              "      <td>NaN</td>\n",
              "      <td>S</td>\n",
              "    </tr>\n",
              "    <tr>\n",
              "      <th>Saundercock, Mr. William Henry</th>\n",
              "      <td>13</td>\n",
              "      <td>0</td>\n",
              "      <td>3</td>\n",
              "      <td>male</td>\n",
              "      <td>20.0</td>\n",
              "      <td>0</td>\n",
              "      <td>0</td>\n",
              "      <td>A/5. 2151</td>\n",
              "      <td>8.0500</td>\n",
              "      <td>NaN</td>\n",
              "      <td>S</td>\n",
              "    </tr>\n",
              "    <tr>\n",
              "      <th>...</th>\n",
              "      <td>...</td>\n",
              "      <td>...</td>\n",
              "      <td>...</td>\n",
              "      <td>...</td>\n",
              "      <td>...</td>\n",
              "      <td>...</td>\n",
              "      <td>...</td>\n",
              "      <td>...</td>\n",
              "      <td>...</td>\n",
              "      <td>...</td>\n",
              "      <td>...</td>\n",
              "    </tr>\n",
              "    <tr>\n",
              "      <th>Markun, Mr. Johann</th>\n",
              "      <td>882</td>\n",
              "      <td>0</td>\n",
              "      <td>3</td>\n",
              "      <td>male</td>\n",
              "      <td>33.0</td>\n",
              "      <td>0</td>\n",
              "      <td>0</td>\n",
              "      <td>349257</td>\n",
              "      <td>7.8958</td>\n",
              "      <td>NaN</td>\n",
              "      <td>S</td>\n",
              "    </tr>\n",
              "    <tr>\n",
              "      <th>Dahlberg, Miss. Gerda Ulrika</th>\n",
              "      <td>883</td>\n",
              "      <td>0</td>\n",
              "      <td>3</td>\n",
              "      <td>female</td>\n",
              "      <td>22.0</td>\n",
              "      <td>0</td>\n",
              "      <td>0</td>\n",
              "      <td>7552</td>\n",
              "      <td>10.5167</td>\n",
              "      <td>NaN</td>\n",
              "      <td>S</td>\n",
              "    </tr>\n",
              "    <tr>\n",
              "      <th>Sutehall, Mr. Henry Jr</th>\n",
              "      <td>885</td>\n",
              "      <td>0</td>\n",
              "      <td>3</td>\n",
              "      <td>male</td>\n",
              "      <td>25.0</td>\n",
              "      <td>0</td>\n",
              "      <td>0</td>\n",
              "      <td>SOTON/OQ 392076</td>\n",
              "      <td>7.0500</td>\n",
              "      <td>NaN</td>\n",
              "      <td>S</td>\n",
              "    </tr>\n",
              "    <tr>\n",
              "      <th>Rice, Mrs. William (Margaret Norton)</th>\n",
              "      <td>886</td>\n",
              "      <td>0</td>\n",
              "      <td>3</td>\n",
              "      <td>female</td>\n",
              "      <td>39.0</td>\n",
              "      <td>0</td>\n",
              "      <td>5</td>\n",
              "      <td>382652</td>\n",
              "      <td>29.1250</td>\n",
              "      <td>NaN</td>\n",
              "      <td>Q</td>\n",
              "    </tr>\n",
              "    <tr>\n",
              "      <th>Dooley, Mr. Patrick</th>\n",
              "      <td>891</td>\n",
              "      <td>0</td>\n",
              "      <td>3</td>\n",
              "      <td>male</td>\n",
              "      <td>32.0</td>\n",
              "      <td>0</td>\n",
              "      <td>0</td>\n",
              "      <td>370376</td>\n",
              "      <td>7.7500</td>\n",
              "      <td>NaN</td>\n",
              "      <td>Q</td>\n",
              "    </tr>\n",
              "  </tbody>\n",
              "</table>\n",
              "<p>277 rows × 11 columns</p>\n",
              "</div>\n",
              "      <button class=\"colab-df-convert\" onclick=\"convertToInteractive('df-4c523bb4-00ee-4783-b5ab-22baf17a0636')\"\n",
              "              title=\"Convert this dataframe to an interactive table.\"\n",
              "              style=\"display:none;\">\n",
              "        \n",
              "  <svg xmlns=\"http://www.w3.org/2000/svg\" height=\"24px\"viewBox=\"0 0 24 24\"\n",
              "       width=\"24px\">\n",
              "    <path d=\"M0 0h24v24H0V0z\" fill=\"none\"/>\n",
              "    <path d=\"M18.56 5.44l.94 2.06.94-2.06 2.06-.94-2.06-.94-.94-2.06-.94 2.06-2.06.94zm-11 1L8.5 8.5l.94-2.06 2.06-.94-2.06-.94L8.5 2.5l-.94 2.06-2.06.94zm10 10l.94 2.06.94-2.06 2.06-.94-2.06-.94-.94-2.06-.94 2.06-2.06.94z\"/><path d=\"M17.41 7.96l-1.37-1.37c-.4-.4-.92-.59-1.43-.59-.52 0-1.04.2-1.43.59L10.3 9.45l-7.72 7.72c-.78.78-.78 2.05 0 2.83L4 21.41c.39.39.9.59 1.41.59.51 0 1.02-.2 1.41-.59l7.78-7.78 2.81-2.81c.8-.78.8-2.07 0-2.86zM5.41 20L4 18.59l7.72-7.72 1.47 1.35L5.41 20z\"/>\n",
              "  </svg>\n",
              "      </button>\n",
              "      \n",
              "  <style>\n",
              "    .colab-df-container {\n",
              "      display:flex;\n",
              "      flex-wrap:wrap;\n",
              "      gap: 12px;\n",
              "    }\n",
              "\n",
              "    .colab-df-convert {\n",
              "      background-color: #E8F0FE;\n",
              "      border: none;\n",
              "      border-radius: 50%;\n",
              "      cursor: pointer;\n",
              "      display: none;\n",
              "      fill: #1967D2;\n",
              "      height: 32px;\n",
              "      padding: 0 0 0 0;\n",
              "      width: 32px;\n",
              "    }\n",
              "\n",
              "    .colab-df-convert:hover {\n",
              "      background-color: #E2EBFA;\n",
              "      box-shadow: 0px 1px 2px rgba(60, 64, 67, 0.3), 0px 1px 3px 1px rgba(60, 64, 67, 0.15);\n",
              "      fill: #174EA6;\n",
              "    }\n",
              "\n",
              "    [theme=dark] .colab-df-convert {\n",
              "      background-color: #3B4455;\n",
              "      fill: #D2E3FC;\n",
              "    }\n",
              "\n",
              "    [theme=dark] .colab-df-convert:hover {\n",
              "      background-color: #434B5C;\n",
              "      box-shadow: 0px 1px 3px 1px rgba(0, 0, 0, 0.15);\n",
              "      filter: drop-shadow(0px 1px 2px rgba(0, 0, 0, 0.3));\n",
              "      fill: #FFFFFF;\n",
              "    }\n",
              "  </style>\n",
              "\n",
              "      <script>\n",
              "        const buttonEl =\n",
              "          document.querySelector('#df-4c523bb4-00ee-4783-b5ab-22baf17a0636 button.colab-df-convert');\n",
              "        buttonEl.style.display =\n",
              "          google.colab.kernel.accessAllowed ? 'block' : 'none';\n",
              "\n",
              "        async function convertToInteractive(key) {\n",
              "          const element = document.querySelector('#df-4c523bb4-00ee-4783-b5ab-22baf17a0636');\n",
              "          const dataTable =\n",
              "            await google.colab.kernel.invokeFunction('convertToInteractive',\n",
              "                                                     [key], {});\n",
              "          if (!dataTable) return;\n",
              "\n",
              "          const docLinkHtml = 'Like what you see? Visit the ' +\n",
              "            '<a target=\"_blank\" href=https://colab.research.google.com/notebooks/data_table.ipynb>data table notebook</a>'\n",
              "            + ' to learn more about interactive tables.';\n",
              "          element.innerHTML = '';\n",
              "          dataTable['output_type'] = 'display_data';\n",
              "          await google.colab.output.renderOutput(dataTable, element);\n",
              "          const docLink = document.createElement('div');\n",
              "          docLink.innerHTML = docLinkHtml;\n",
              "          element.appendChild(docLink);\n",
              "        }\n",
              "      </script>\n",
              "    </div>\n",
              "  </div>\n",
              "  "
            ]
          },
          "metadata": {},
          "execution_count": 39
        }
      ]
    },
    {
      "cell_type": "markdown",
      "source": [
        "In Pandas you can aggregate datasets using the `.groupby()` method:"
      ],
      "metadata": {
        "id": "26lGUMua2zlb"
      }
    },
    {
      "cell_type": "code",
      "source": [
        "titanic.groupby(\"Pclass\").sum()[\"Survived\"]"
      ],
      "metadata": {
        "colab": {
          "base_uri": "https://localhost:8080/"
        },
        "id": "x81JEMXN20FF",
        "outputId": "11564f7e-acc7-4d79-b432-b517aee11187"
      },
      "execution_count": null,
      "outputs": [
        {
          "output_type": "execute_result",
          "data": {
            "text/plain": [
              "Pclass\n",
              "1    136\n",
              "2     87\n",
              "3    119\n",
              "Name: Survived, dtype: int64"
            ]
          },
          "metadata": {},
          "execution_count": 31
        }
      ]
    },
    {
      "cell_type": "markdown",
      "source": [
        "Notice in the above line of code, we combined two methods. In Pandas, you can chain multiple methods together, much like dplyr's pipline operator (`%>%`) in R."
      ],
      "metadata": {
        "id": "NIZeRJl48jXl"
      }
    },
    {
      "cell_type": "code",
      "source": [
        "# Select the names of passengers in class 3 who are 65 years of age or older.\n",
        "titanic.reset_index().query(\"Pclass == 3 & Age >= 65\")[\"Name\"]"
      ],
      "metadata": {
        "colab": {
          "base_uri": "https://localhost:8080/"
        },
        "id": "o5XYUSPN86ZV",
        "outputId": "0478a65d-a8f1-46a7-e4ae-b17a36964b4c"
      },
      "execution_count": null,
      "outputs": [
        {
          "output_type": "execute_result",
          "data": {
            "text/plain": [
              "116    Connors, Mr. Patrick\n",
              "280        Duane, Mr. Frank\n",
              "851     Svensson, Mr. Johan\n",
              "Name: Name, dtype: object"
            ]
          },
          "metadata": {},
          "execution_count": 49
        }
      ]
    },
    {
      "cell_type": "markdown",
      "source": [
        "### Exercises\n",
        "\n",
        "1. Filter the dataset to people where `Embarked` is Q.\n",
        "2. Filter the dataset to people 18 years or older, and `Fare` is less than 10\n",
        "3. Filter the dataset to people with an above-median age.\n",
        "4. What is the highest value of `Fare` for female passengers in class 2?"
      ],
      "metadata": {
        "id": "MNl_XpDz3G25"
      }
    },
    {
      "cell_type": "markdown",
      "source": [
        "### Series\n",
        "\n",
        "Let's select the `Ticket` column:\n"
      ],
      "metadata": {
        "id": "NMTGDNfra_25"
      }
    },
    {
      "cell_type": "code",
      "source": [
        "titanic[\"Ticket\"]"
      ],
      "metadata": {
        "colab": {
          "base_uri": "https://localhost:8080/"
        },
        "id": "sBi0IRftbqWQ",
        "outputId": "7a5ade67-6047-46fd-9432-adefb304a2d4"
      },
      "execution_count": null,
      "outputs": [
        {
          "output_type": "execute_result",
          "data": {
            "text/plain": [
              "Name\n",
              "Braund, Mr. Owen Harris                                       A/5 21171\n",
              "Cumings, Mrs. John Bradley (Florence Briggs Thayer)            PC 17599\n",
              "Heikkinen, Miss. Laina                                 STON/O2. 3101282\n",
              "Futrelle, Mrs. Jacques Heath (Lily May Peel)                     113803\n",
              "Allen, Mr. William Henry                                         373450\n",
              "                                                             ...       \n",
              "Montvila, Rev. Juozas                                            211536\n",
              "Graham, Miss. Margaret Edith                                     112053\n",
              "Johnston, Miss. Catherine Helen \"Carrie\"                     W./C. 6607\n",
              "Behr, Mr. Karl Howell                                            111369\n",
              "Dooley, Mr. Patrick                                              370376\n",
              "Name: Ticket, Length: 891, dtype: object"
            ]
          },
          "metadata": {},
          "execution_count": 32
        }
      ]
    },
    {
      "cell_type": "markdown",
      "source": [
        "When selecting a single column of the DataFrame, Pandas returns what is known as a **Series**. This is a data structure used to represent one-dimensional data, much like a list or NumPy array. They are more flexible than NumPy arrays because they can hold non-numeric data types. However, they are not as flexible as lists because they can only hold one datatype at a time. If you try to create a Series with values of different data types, Pandas will convert all the elements of the Series into strings."
      ],
      "metadata": {
        "id": "JFVpjCHvbp63"
      }
    },
    {
      "cell_type": "code",
      "source": [
        "#You can create series from lists, tuples, and NumPy arrays\n",
        "l = [\"The\", \"quick\", \"brown\", \"fox\"]\n",
        "t = (3,1,4,1,5,9)\n",
        "a = np.array(t)\n",
        "mix = [\"this\", 3, \"will\", True, \"convert\"]\n",
        "\n",
        "print(pd.Series(l))\n",
        "print(pd.Series(t))\n",
        "print(pd.Series(a))\n",
        "print(pd.Series(mix)) #converted into strings"
      ],
      "metadata": {
        "colab": {
          "base_uri": "https://localhost:8080/"
        },
        "id": "0E1N4APCcQHd",
        "outputId": "3f9e0ed0-0893-415c-92c3-facc91854af8"
      },
      "execution_count": null,
      "outputs": [
        {
          "output_type": "stream",
          "name": "stdout",
          "text": [
            "0      The\n",
            "1    quick\n",
            "2    brown\n",
            "3      fox\n",
            "dtype: object\n",
            "0    3\n",
            "1    1\n",
            "2    4\n",
            "3    1\n",
            "4    5\n",
            "5    9\n",
            "dtype: int64\n",
            "0    3\n",
            "1    1\n",
            "2    4\n",
            "3    1\n",
            "4    5\n",
            "5    9\n",
            "dtype: int64\n",
            "0       this\n",
            "1          3\n",
            "2       will\n",
            "3       True\n",
            "4    convert\n",
            "dtype: object\n"
          ]
        }
      ]
    },
    {
      "cell_type": "markdown",
      "source": [
        "This concludes today's lab. There is still so much more to learn with Python, NumPy, and Pandas than what can be learned in one hour. Do have a look at the documentation for each of these tools to get a deeper insight into what they are capable of:\n",
        "\n",
        "* https://docs.python.org/3/\n",
        "* https://numpy.org/doc/stable/user/index.html\n",
        "* https://pandas.pydata.org/docs/user_guide/index.html\n",
        "\n",
        "Happy coding!"
      ],
      "metadata": {
        "id": "C-RyFu-FdQJw"
      }
    }
  ]
}